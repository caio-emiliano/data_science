{
  "nbformat": 4,
  "nbformat_minor": 0,
  "metadata": {
    "colab": {
      "name": "Desafio AgiBank - Q26.ipynb",
      "provenance": [],
      "mount_file_id": "16n6N2pHp-tydlBe5o8I2l4bKwz4veEti",
      "authorship_tag": "ABX9TyM/fVfuH56PbWcB/gylXtCl",
      "include_colab_link": true
    },
    "kernelspec": {
      "name": "python3",
      "display_name": "Python 3"
    },
    "language_info": {
      "name": "python"
    }
  },
  "cells": [
    {
      "cell_type": "markdown",
      "metadata": {
        "id": "view-in-github",
        "colab_type": "text"
      },
      "source": [
        "<a href=\"https://colab.research.google.com/github/caio-emiliano/data_science/blob/main/Desafio_AgiBank_Q26.ipynb\" target=\"_parent\"><img src=\"https://colab.research.google.com/assets/colab-badge.svg\" alt=\"Open In Colab\"/></a>"
      ]
    },
    {
      "cell_type": "code",
      "metadata": {
        "id": "0URiKNQtrDCc"
      },
      "source": [
        "# suprimir os warnings\n",
        "from warnings import simplefilter\n",
        "simplefilter(action='ignore', category=FutureWarning)\n",
        "\n",
        "!pip install -q scikit-plot"
      ],
      "execution_count": 139,
      "outputs": []
    },
    {
      "cell_type": "code",
      "metadata": {
        "id": "NOkrs0oMbsiG"
      },
      "source": [
        "# importar os pacotes necessários\n",
        "import pandas as pd\n",
        "import numpy as np\n",
        "import matplotlib.pyplot as plt\n",
        "import seaborn as sns\n",
        "import scikitplot as skplt\n",
        "\n",
        "from sklearn.model_selection import train_test_split\n",
        "from sklearn.preprocessing import StandardScaler\n",
        "from sklearn.linear_model import LogisticRegression\n",
        "from sklearn.metrics import classification_report\n",
        "from sklearn.metrics import roc_auc_score, roc_curve, accuracy_score\n",
        "\n",
        "from imblearn.under_sampling import RandomUnderSampler\n",
        "\n",
        "# configurar o estilo dos gráficos com o Seaborn\n",
        "sns.set_style('dark')"
      ],
      "execution_count": 140,
      "outputs": []
    },
    {
      "cell_type": "code",
      "metadata": {
        "id": "vqAvdz3nD7-8"
      },
      "source": [
        "file_path = \"/content/drive/MyDrive/DATA SCIENCE/Desafio AgiBank/fraud.csv\"\n",
        "\n",
        "df = pd.read_csv(file_path)"
      ],
      "execution_count": 141,
      "outputs": []
    },
    {
      "cell_type": "code",
      "metadata": {
        "colab": {
          "base_uri": "https://localhost:8080/"
        },
        "id": "p5lrNl8KSIn4",
        "outputId": "a6cb2890-6f28-480c-e19c-1ad352a70887"
      },
      "source": [
        "#Dimensões dos Dados:\n",
        "print(\"DIMENSÕES DO DATAFRAME:\")\n",
        "print(\"Linhas:\\t\\t{}\".format(df.shape[0]))\n",
        "print(\"Colunas:\\t{}\".format(df.shape[1]))"
      ],
      "execution_count": 142,
      "outputs": [
        {
          "output_type": "stream",
          "name": "stdout",
          "text": [
            "DIMENSÕES DO DATAFRAME:\n",
            "Linhas:\t\t6362620\n",
            "Colunas:\t11\n"
          ]
        }
      ]
    },
    {
      "cell_type": "code",
      "metadata": {
        "colab": {
          "base_uri": "https://localhost:8080/"
        },
        "id": "RbyoE8qaHpy8",
        "outputId": "04ea5cab-e4e1-4a71-dd5c-a6a508bf6566"
      },
      "source": [
        "df.isnull().sum().max()"
      ],
      "execution_count": 143,
      "outputs": [
        {
          "output_type": "execute_result",
          "data": {
            "text/plain": [
              "0"
            ]
          },
          "metadata": {},
          "execution_count": 143
        }
      ]
    },
    {
      "cell_type": "markdown",
      "metadata": {
        "id": "VjmWMZJRTFnv"
      },
      "source": [
        "#Análise Exploratória"
      ]
    },
    {
      "cell_type": "markdown",
      "metadata": {
        "id": "MUfdN7QZSpqg"
      },
      "source": [
        "Neste problema, estamos interessados em predizer se uma transação é fraudulenta ou não. Essa informação pode ser encontrada na coluna isFraud, coluna esta que chamarei de target!\n",
        "\n",
        "Ao olharmos o target, percebemos que:\n",
        "\n",
        "*   **0** : Transação normal;\n",
        "*   **1** :Transação fraudulenta\n",
        "\n",
        "Também concluímos que não existem informações sobre o balanço das transações para clientes que começam com a letra M, como mencionado na documentação do Dataset\n",
        "\n"
      ]
    },
    {
      "cell_type": "code",
      "metadata": {
        "colab": {
          "base_uri": "https://localhost:8080/",
          "height": 224
        },
        "id": "9GErNzsnGZik",
        "outputId": "09c36264-94f7-4ddd-db62-f2e5e1324956"
      },
      "source": [
        "df.head()"
      ],
      "execution_count": 144,
      "outputs": [
        {
          "output_type": "execute_result",
          "data": {
            "text/html": [
              "<div>\n",
              "<style scoped>\n",
              "    .dataframe tbody tr th:only-of-type {\n",
              "        vertical-align: middle;\n",
              "    }\n",
              "\n",
              "    .dataframe tbody tr th {\n",
              "        vertical-align: top;\n",
              "    }\n",
              "\n",
              "    .dataframe thead th {\n",
              "        text-align: right;\n",
              "    }\n",
              "</style>\n",
              "<table border=\"1\" class=\"dataframe\">\n",
              "  <thead>\n",
              "    <tr style=\"text-align: right;\">\n",
              "      <th></th>\n",
              "      <th>step</th>\n",
              "      <th>type</th>\n",
              "      <th>amount</th>\n",
              "      <th>nameOrig</th>\n",
              "      <th>oldbalanceOrg</th>\n",
              "      <th>newbalanceOrig</th>\n",
              "      <th>nameDest</th>\n",
              "      <th>oldbalanceDest</th>\n",
              "      <th>newbalanceDest</th>\n",
              "      <th>isFraud</th>\n",
              "      <th>isFlaggedFraud</th>\n",
              "    </tr>\n",
              "  </thead>\n",
              "  <tbody>\n",
              "    <tr>\n",
              "      <th>0</th>\n",
              "      <td>1</td>\n",
              "      <td>PAYMENT</td>\n",
              "      <td>9839.64</td>\n",
              "      <td>C1231006815</td>\n",
              "      <td>170136.0</td>\n",
              "      <td>160296.36</td>\n",
              "      <td>M1979787155</td>\n",
              "      <td>0.0</td>\n",
              "      <td>0.0</td>\n",
              "      <td>0</td>\n",
              "      <td>0</td>\n",
              "    </tr>\n",
              "    <tr>\n",
              "      <th>1</th>\n",
              "      <td>1</td>\n",
              "      <td>PAYMENT</td>\n",
              "      <td>1864.28</td>\n",
              "      <td>C1666544295</td>\n",
              "      <td>21249.0</td>\n",
              "      <td>19384.72</td>\n",
              "      <td>M2044282225</td>\n",
              "      <td>0.0</td>\n",
              "      <td>0.0</td>\n",
              "      <td>0</td>\n",
              "      <td>0</td>\n",
              "    </tr>\n",
              "    <tr>\n",
              "      <th>2</th>\n",
              "      <td>1</td>\n",
              "      <td>TRANSFER</td>\n",
              "      <td>181.00</td>\n",
              "      <td>C1305486145</td>\n",
              "      <td>181.0</td>\n",
              "      <td>0.00</td>\n",
              "      <td>C553264065</td>\n",
              "      <td>0.0</td>\n",
              "      <td>0.0</td>\n",
              "      <td>1</td>\n",
              "      <td>0</td>\n",
              "    </tr>\n",
              "    <tr>\n",
              "      <th>3</th>\n",
              "      <td>1</td>\n",
              "      <td>CASH_OUT</td>\n",
              "      <td>181.00</td>\n",
              "      <td>C840083671</td>\n",
              "      <td>181.0</td>\n",
              "      <td>0.00</td>\n",
              "      <td>C38997010</td>\n",
              "      <td>21182.0</td>\n",
              "      <td>0.0</td>\n",
              "      <td>1</td>\n",
              "      <td>0</td>\n",
              "    </tr>\n",
              "    <tr>\n",
              "      <th>4</th>\n",
              "      <td>1</td>\n",
              "      <td>PAYMENT</td>\n",
              "      <td>11668.14</td>\n",
              "      <td>C2048537720</td>\n",
              "      <td>41554.0</td>\n",
              "      <td>29885.86</td>\n",
              "      <td>M1230701703</td>\n",
              "      <td>0.0</td>\n",
              "      <td>0.0</td>\n",
              "      <td>0</td>\n",
              "      <td>0</td>\n",
              "    </tr>\n",
              "  </tbody>\n",
              "</table>\n",
              "</div>"
            ],
            "text/plain": [
              "   step      type    amount  ... newbalanceDest  isFraud  isFlaggedFraud\n",
              "0     1   PAYMENT   9839.64  ...            0.0        0               0\n",
              "1     1   PAYMENT   1864.28  ...            0.0        0               0\n",
              "2     1  TRANSFER    181.00  ...            0.0        1               0\n",
              "3     1  CASH_OUT    181.00  ...            0.0        1               0\n",
              "4     1   PAYMENT  11668.14  ...            0.0        0               0\n",
              "\n",
              "[5 rows x 11 columns]"
            ]
          },
          "metadata": {},
          "execution_count": 144
        }
      ]
    },
    {
      "cell_type": "markdown",
      "metadata": {
        "id": "8KuKMrXzTITm"
      },
      "source": [
        "Abaixo verificarei o resumo estatístico da base de dados, através do método describe().\n",
        "\n",
        "Em relação aos valores transacionado (variável amount), nota-se que o valor médio de transações (considerando todas as categorias) é de 179.861, a mediana 74.871 e o desvio padrão de 603.858\n",
        "\n",
        "Ao ver um desvio padrão tão alto, percebo que os dados de transação não estão distribuidos de forma muito homogênea (o que é péssimo para um algoritmo de machine learning). Precisarei tratar esse desbalanceamento mais tarde."
      ]
    },
    {
      "cell_type": "code",
      "metadata": {
        "colab": {
          "base_uri": "https://localhost:8080/",
          "height": 317
        },
        "id": "dkwv38B-WtC7",
        "outputId": "c78d688c-691f-4de0-cc4d-799e9c602707"
      },
      "source": [
        "df.describe()"
      ],
      "execution_count": 145,
      "outputs": [
        {
          "output_type": "execute_result",
          "data": {
            "text/html": [
              "<div>\n",
              "<style scoped>\n",
              "    .dataframe tbody tr th:only-of-type {\n",
              "        vertical-align: middle;\n",
              "    }\n",
              "\n",
              "    .dataframe tbody tr th {\n",
              "        vertical-align: top;\n",
              "    }\n",
              "\n",
              "    .dataframe thead th {\n",
              "        text-align: right;\n",
              "    }\n",
              "</style>\n",
              "<table border=\"1\" class=\"dataframe\">\n",
              "  <thead>\n",
              "    <tr style=\"text-align: right;\">\n",
              "      <th></th>\n",
              "      <th>step</th>\n",
              "      <th>amount</th>\n",
              "      <th>oldbalanceOrg</th>\n",
              "      <th>newbalanceOrig</th>\n",
              "      <th>oldbalanceDest</th>\n",
              "      <th>newbalanceDest</th>\n",
              "      <th>isFraud</th>\n",
              "      <th>isFlaggedFraud</th>\n",
              "    </tr>\n",
              "  </thead>\n",
              "  <tbody>\n",
              "    <tr>\n",
              "      <th>count</th>\n",
              "      <td>6.362620e+06</td>\n",
              "      <td>6.362620e+06</td>\n",
              "      <td>6.362620e+06</td>\n",
              "      <td>6.362620e+06</td>\n",
              "      <td>6.362620e+06</td>\n",
              "      <td>6.362620e+06</td>\n",
              "      <td>6.362620e+06</td>\n",
              "      <td>6.362620e+06</td>\n",
              "    </tr>\n",
              "    <tr>\n",
              "      <th>mean</th>\n",
              "      <td>2.433972e+02</td>\n",
              "      <td>1.798619e+05</td>\n",
              "      <td>8.338831e+05</td>\n",
              "      <td>8.551137e+05</td>\n",
              "      <td>1.100702e+06</td>\n",
              "      <td>1.224996e+06</td>\n",
              "      <td>1.290820e-03</td>\n",
              "      <td>2.514687e-06</td>\n",
              "    </tr>\n",
              "    <tr>\n",
              "      <th>std</th>\n",
              "      <td>1.423320e+02</td>\n",
              "      <td>6.038582e+05</td>\n",
              "      <td>2.888243e+06</td>\n",
              "      <td>2.924049e+06</td>\n",
              "      <td>3.399180e+06</td>\n",
              "      <td>3.674129e+06</td>\n",
              "      <td>3.590480e-02</td>\n",
              "      <td>1.585775e-03</td>\n",
              "    </tr>\n",
              "    <tr>\n",
              "      <th>min</th>\n",
              "      <td>1.000000e+00</td>\n",
              "      <td>0.000000e+00</td>\n",
              "      <td>0.000000e+00</td>\n",
              "      <td>0.000000e+00</td>\n",
              "      <td>0.000000e+00</td>\n",
              "      <td>0.000000e+00</td>\n",
              "      <td>0.000000e+00</td>\n",
              "      <td>0.000000e+00</td>\n",
              "    </tr>\n",
              "    <tr>\n",
              "      <th>25%</th>\n",
              "      <td>1.560000e+02</td>\n",
              "      <td>1.338957e+04</td>\n",
              "      <td>0.000000e+00</td>\n",
              "      <td>0.000000e+00</td>\n",
              "      <td>0.000000e+00</td>\n",
              "      <td>0.000000e+00</td>\n",
              "      <td>0.000000e+00</td>\n",
              "      <td>0.000000e+00</td>\n",
              "    </tr>\n",
              "    <tr>\n",
              "      <th>50%</th>\n",
              "      <td>2.390000e+02</td>\n",
              "      <td>7.487194e+04</td>\n",
              "      <td>1.420800e+04</td>\n",
              "      <td>0.000000e+00</td>\n",
              "      <td>1.327057e+05</td>\n",
              "      <td>2.146614e+05</td>\n",
              "      <td>0.000000e+00</td>\n",
              "      <td>0.000000e+00</td>\n",
              "    </tr>\n",
              "    <tr>\n",
              "      <th>75%</th>\n",
              "      <td>3.350000e+02</td>\n",
              "      <td>2.087215e+05</td>\n",
              "      <td>1.073152e+05</td>\n",
              "      <td>1.442584e+05</td>\n",
              "      <td>9.430367e+05</td>\n",
              "      <td>1.111909e+06</td>\n",
              "      <td>0.000000e+00</td>\n",
              "      <td>0.000000e+00</td>\n",
              "    </tr>\n",
              "    <tr>\n",
              "      <th>max</th>\n",
              "      <td>7.430000e+02</td>\n",
              "      <td>9.244552e+07</td>\n",
              "      <td>5.958504e+07</td>\n",
              "      <td>4.958504e+07</td>\n",
              "      <td>3.560159e+08</td>\n",
              "      <td>3.561793e+08</td>\n",
              "      <td>1.000000e+00</td>\n",
              "      <td>1.000000e+00</td>\n",
              "    </tr>\n",
              "  </tbody>\n",
              "</table>\n",
              "</div>"
            ],
            "text/plain": [
              "               step        amount  ...       isFraud  isFlaggedFraud\n",
              "count  6.362620e+06  6.362620e+06  ...  6.362620e+06    6.362620e+06\n",
              "mean   2.433972e+02  1.798619e+05  ...  1.290820e-03    2.514687e-06\n",
              "std    1.423320e+02  6.038582e+05  ...  3.590480e-02    1.585775e-03\n",
              "min    1.000000e+00  0.000000e+00  ...  0.000000e+00    0.000000e+00\n",
              "25%    1.560000e+02  1.338957e+04  ...  0.000000e+00    0.000000e+00\n",
              "50%    2.390000e+02  7.487194e+04  ...  0.000000e+00    0.000000e+00\n",
              "75%    3.350000e+02  2.087215e+05  ...  0.000000e+00    0.000000e+00\n",
              "max    7.430000e+02  9.244552e+07  ...  1.000000e+00    1.000000e+00\n",
              "\n",
              "[8 rows x 8 columns]"
            ]
          },
          "metadata": {},
          "execution_count": 145
        }
      ]
    },
    {
      "cell_type": "code",
      "metadata": {
        "colab": {
          "base_uri": "https://localhost:8080/"
        },
        "id": "nNK0qPxZTpPK",
        "outputId": "03ed7084-66c8-4eb4-d619-656bdd6df0a5"
      },
      "source": [
        "df.amount.describe().apply(\"{0:.5f}\".format)"
      ],
      "execution_count": 146,
      "outputs": [
        {
          "output_type": "execute_result",
          "data": {
            "text/plain": [
              "count     6362620.00000\n",
              "mean       179861.90355\n",
              "std        603858.23146\n",
              "min             0.00000\n",
              "25%         13389.57000\n",
              "50%         74871.94000\n",
              "75%        208721.47750\n",
              "max      92445516.64000\n",
              "Name: amount, dtype: object"
            ]
          },
          "metadata": {},
          "execution_count": 146
        }
      ]
    },
    {
      "cell_type": "code",
      "metadata": {
        "colab": {
          "base_uri": "https://localhost:8080/"
        },
        "id": "JMNi5VI5ochs",
        "outputId": "d0b081f6-6529-49c6-8c25-282ff59ffd3e"
      },
      "source": [
        "df.step.describe().apply(\"{0:.5f}\".format)"
      ],
      "execution_count": 147,
      "outputs": [
        {
          "output_type": "execute_result",
          "data": {
            "text/plain": [
              "count    6362620.00000\n",
              "mean         243.39725\n",
              "std          142.33197\n",
              "min            1.00000\n",
              "25%          156.00000\n",
              "50%          239.00000\n",
              "75%          335.00000\n",
              "max          743.00000\n",
              "Name: step, dtype: object"
            ]
          },
          "metadata": {},
          "execution_count": 147
        }
      ]
    },
    {
      "cell_type": "markdown",
      "metadata": {
        "id": "zWzfzH8uZiVG"
      },
      "source": [
        "Também é possível perceber que não existem muitas categorias de valores ausentes nesta base de dados. Entretanto, o número de clientes destinatários que começam com a letra M é de 2.151.495 , o qual lidarei posteriormente"
      ]
    },
    {
      "cell_type": "code",
      "metadata": {
        "colab": {
          "base_uri": "https://localhost:8080/"
        },
        "id": "PuNT2u2zTyjn",
        "outputId": "941cdb6a-e8e9-4d9e-80b8-8ae317748f26"
      },
      "source": [
        "df.isnull().sum()"
      ],
      "execution_count": 148,
      "outputs": [
        {
          "output_type": "execute_result",
          "data": {
            "text/plain": [
              "step              0\n",
              "type              0\n",
              "amount            0\n",
              "nameOrig          0\n",
              "oldbalanceOrg     0\n",
              "newbalanceOrig    0\n",
              "nameDest          0\n",
              "oldbalanceDest    0\n",
              "newbalanceDest    0\n",
              "isFraud           0\n",
              "isFlaggedFraud    0\n",
              "dtype: int64"
            ]
          },
          "metadata": {},
          "execution_count": 148
        }
      ]
    },
    {
      "cell_type": "code",
      "metadata": {
        "colab": {
          "base_uri": "https://localhost:8080/"
        },
        "id": "ndZPq010hSmd",
        "outputId": "ba041ee0-1982-453a-a6ba-cc3732c9da68"
      },
      "source": [
        "df.nameDest.str.startswith('M').sum()\n",
        "#Contando o número de clientes destinatários que começam com a letra M"
      ],
      "execution_count": 149,
      "outputs": [
        {
          "output_type": "execute_result",
          "data": {
            "text/plain": [
              "2151495"
            ]
          },
          "metadata": {},
          "execution_count": 149
        }
      ]
    },
    {
      "cell_type": "markdown",
      "metadata": {
        "id": "1_RB9QC3bJS9"
      },
      "source": [
        "Outro ponto que analisarei é: quantas transações fraudulentas existem, em porcentagem, nessa base de dados."
      ]
    },
    {
      "cell_type": "code",
      "metadata": {
        "colab": {
          "base_uri": "https://localhost:8080/",
          "height": 414
        },
        "id": "Dz2i84-RbfI-",
        "outputId": "584d87ca-52a0-4003-cf0e-ff27879d1555"
      },
      "source": [
        "# ver o balanceamento das transações fraudulentas e não fraudulentas\n",
        "print(df.isFraud.value_counts())\n",
        "print(\"\\nFraudes representam {:.4f}% do dataset.\\n\".format((df[df.isFraud == 1].shape[0] / df.shape[0]) * 100))\n",
        "\n",
        "# plotar gráfico de barras para as transações\n",
        "fig, ax = plt.subplots()\n",
        "sns.countplot('isFraud', data=df, ax=ax)\n",
        "ax.set_title('Distribuição entre transações fraudulentas e não fraudulentas')\n",
        "plt.plot()"
      ],
      "execution_count": 150,
      "outputs": [
        {
          "output_type": "stream",
          "name": "stdout",
          "text": [
            "0    6354407\n",
            "1       8213\n",
            "Name: isFraud, dtype: int64\n",
            "\n",
            "Fraudes representam 0.1291% do dataset.\n",
            "\n"
          ]
        },
        {
          "output_type": "execute_result",
          "data": {
            "text/plain": [
              "[]"
            ]
          },
          "metadata": {},
          "execution_count": 150
        },
        {
          "output_type": "display_data",
          "data": {
            "image/png": "[encoded data removed]",
            "text/plain": [
              "<Figure size 432x288 with 1 Axes>"
            ]
          },
          "metadata": {}
        }
      ]
    },
    {
      "cell_type": "markdown",
      "metadata": {
        "id": "yYW_1qytdcUk"
      },
      "source": [
        "Com o gráfico acima, percebi essa nítida discrepância. Na prática isso interferirá no desempenho do nosso modelo, e será necessário fazer um balanceamento dos dados antes de alimentar o modelo de classificação."
      ]
    },
    {
      "cell_type": "markdown",
      "metadata": {
        "id": "dXi9CP5beAWd"
      },
      "source": [
        "Seguindo minha análise exploratória, irei plotar o boxplot para ver se há diferença nos valores transacionados em fraudes e transações \"normais\"."
      ]
    },
    {
      "cell_type": "code",
      "metadata": {
        "colab": {
          "base_uri": "https://localhost:8080/",
          "height": 729
        },
        "id": "PeaOuG6Pb1uF",
        "outputId": "5e75448a-2dd9-4c29-fb86-ae7a26a95a1e"
      },
      "source": [
        "fig, ax = plt.subplots(figsize=(6,10), sharex=True)\n",
        "\n",
        "sns.boxplot(df.isFraud, df.amount, showmeans=True, ax=ax)\n",
        "plt.ylim((10000, 600000))\n",
        "plt.xticks([0, 1], ['Normal', 'Fraude'])\n",
        "\n",
        "plt.tight_layout()"
      ],
      "execution_count": 151,
      "outputs": [
        {
          "output_type": "display_data",
          "data": {
            "image/png": "[encoded data removed]",
            "text/plain": [
              "<Figure size 432x720 with 1 Axes>"
            ]
          },
          "metadata": {}
        }
      ]
    },
    {
      "cell_type": "markdown",
      "metadata": {
        "id": "DKaqarpVgKg_"
      },
      "source": [
        "Informações estatísticas de transações fraudulentas podem ser observadas abaixo"
      ]
    },
    {
      "cell_type": "code",
      "metadata": {
        "colab": {
          "base_uri": "https://localhost:8080/"
        },
        "id": "RcLLCrd7dv6l",
        "outputId": "ed62e44b-4c4e-4fca-c70c-fe3879cbd7c2"
      },
      "source": [
        "df[(df.isFraud == 1) & (df.amount > 0)]['amount'].describe().apply(\"{0:.5f}\".format)\n",
        "\n",
        "#Informações estatísticas para transações fraudulentas cujo valor é > 0.\n",
        "# A função apply é para formatarmos o dado do tipo float e melhorarmos a visualização"
      ],
      "execution_count": 152,
      "outputs": [
        {
          "output_type": "execute_result",
          "data": {
            "text/plain": [
              "count        8197.00000\n",
              "mean      1470832.67389\n",
              "std       2405722.68353\n",
              "min            63.80000\n",
              "25%        127564.33000\n",
              "50%        442290.23000\n",
              "75%       1525742.02000\n",
              "max      10000000.00000\n",
              "Name: amount, dtype: object"
            ]
          },
          "metadata": {},
          "execution_count": 152
        }
      ]
    },
    {
      "cell_type": "markdown",
      "metadata": {
        "id": "Z3wiGW-Qntka"
      },
      "source": [
        "De forma resumida, algumas informações principais que puderam ser extraídas dessa etapa exploratória foram:\n",
        "\n",
        " \n",
        "\n",
        "*   O dataset está muito desbalanceado, uma vez que as transações fraudulentas representam apenas 0,129% das entradas totais.\n",
        "*   As colunas Step e Amount não estão normalizadas.\n",
        "*   33,81% dos clientes destinatários começam com a letra M (e possuem valores ausentes no balanço de suas transações).\n"
      ]
    },
    {
      "cell_type": "markdown",
      "metadata": {
        "id": "v7LRaPqupXu5"
      },
      "source": [
        "#Preparando os dados"
      ]
    },
    {
      "cell_type": "markdown",
      "metadata": {
        "id": "jdohBf2Ppa_C"
      },
      "source": [
        "Para que possamos treinar nosso modelo de Regressão Logística, iremos:\n",
        "\n",
        "\n",
        "\n",
        "*   Padronizar as *features* Step e Amount\n",
        "*   Lidar com os dados ausentes dos clientes que começam com a letra M\n",
        "*   Transformar a variável type em numérica\n",
        "*   Dividir entre dados de treino e teste\n",
        "*   Balancear os dados a fim de evitar uma baixa performance\n",
        "\n",
        "\n"
      ]
    },
    {
      "cell_type": "markdown",
      "metadata": {
        "id": "9jGnGnx0p46C"
      },
      "source": [
        "###Padronizar Step e Amount"
      ]
    },
    {
      "cell_type": "markdown",
      "metadata": {
        "id": "BSFiruOqqBo4"
      },
      "source": [
        "Uma vez que a coluna amount possui *outliers*, usarei a padronização por meio da classe StandardScaler"
      ]
    },
    {
      "cell_type": "code",
      "metadata": {
        "colab": {
          "base_uri": "https://localhost:8080/",
          "height": 224
        },
        "id": "1TDBSK_8p926",
        "outputId": "2f48de82-3336-4216-a271-8ebab40d7c24"
      },
      "source": [
        "#Padronizar as colunas Time e Amount\n",
        "df_clean = df.copy()\n",
        "\n",
        "std_scaler = StandardScaler()\n",
        "\n",
        "#Atribui os valores em uma nova escala\n",
        "df_clean['std_amount'] = std_scaler.fit_transform(df_clean['amount'].values.reshape(-1,1))\n",
        "df_clean['std_step'] = std_scaler.fit_transform(df_clean['step'].values.reshape(-1,1))\n",
        "\n",
        "df_clean.drop(['step', 'amount'], axis=1, inplace=True)\n",
        "\n",
        "df_clean.head()"
      ],
      "execution_count": 153,
      "outputs": [
        {
          "output_type": "execute_result",
          "data": {
            "text/html": [
              "<div>\n",
              "<style scoped>\n",
              "    .dataframe tbody tr th:only-of-type {\n",
              "        vertical-align: middle;\n",
              "    }\n",
              "\n",
              "    .dataframe tbody tr th {\n",
              "        vertical-align: top;\n",
              "    }\n",
              "\n",
              "    .dataframe thead th {\n",
              "        text-align: right;\n",
              "    }\n",
              "</style>\n",
              "<table border=\"1\" class=\"dataframe\">\n",
              "  <thead>\n",
              "    <tr style=\"text-align: right;\">\n",
              "      <th></th>\n",
              "      <th>type</th>\n",
              "      <th>nameOrig</th>\n",
              "      <th>oldbalanceOrg</th>\n",
              "      <th>newbalanceOrig</th>\n",
              "      <th>nameDest</th>\n",
              "      <th>oldbalanceDest</th>\n",
              "      <th>newbalanceDest</th>\n",
              "      <th>isFraud</th>\n",
              "      <th>isFlaggedFraud</th>\n",
              "      <th>std_amount</th>\n",
              "      <th>std_step</th>\n",
              "    </tr>\n",
              "  </thead>\n",
              "  <tbody>\n",
              "    <tr>\n",
              "      <th>0</th>\n",
              "      <td>PAYMENT</td>\n",
              "      <td>C1231006815</td>\n",
              "      <td>170136.0</td>\n",
              "      <td>160296.36</td>\n",
              "      <td>M1979787155</td>\n",
              "      <td>0.0</td>\n",
              "      <td>0.0</td>\n",
              "      <td>0</td>\n",
              "      <td>0</td>\n",
              "      <td>-0.281560</td>\n",
              "      <td>-1.703042</td>\n",
              "    </tr>\n",
              "    <tr>\n",
              "      <th>1</th>\n",
              "      <td>PAYMENT</td>\n",
              "      <td>C1666544295</td>\n",
              "      <td>21249.0</td>\n",
              "      <td>19384.72</td>\n",
              "      <td>M2044282225</td>\n",
              "      <td>0.0</td>\n",
              "      <td>0.0</td>\n",
              "      <td>0</td>\n",
              "      <td>0</td>\n",
              "      <td>-0.294767</td>\n",
              "      <td>-1.703042</td>\n",
              "    </tr>\n",
              "    <tr>\n",
              "      <th>2</th>\n",
              "      <td>TRANSFER</td>\n",
              "      <td>C1305486145</td>\n",
              "      <td>181.0</td>\n",
              "      <td>0.00</td>\n",
              "      <td>C553264065</td>\n",
              "      <td>0.0</td>\n",
              "      <td>0.0</td>\n",
              "      <td>1</td>\n",
              "      <td>0</td>\n",
              "      <td>-0.297555</td>\n",
              "      <td>-1.703042</td>\n",
              "    </tr>\n",
              "    <tr>\n",
              "      <th>3</th>\n",
              "      <td>CASH_OUT</td>\n",
              "      <td>C840083671</td>\n",
              "      <td>181.0</td>\n",
              "      <td>0.00</td>\n",
              "      <td>C38997010</td>\n",
              "      <td>21182.0</td>\n",
              "      <td>0.0</td>\n",
              "      <td>1</td>\n",
              "      <td>0</td>\n",
              "      <td>-0.297555</td>\n",
              "      <td>-1.703042</td>\n",
              "    </tr>\n",
              "    <tr>\n",
              "      <th>4</th>\n",
              "      <td>PAYMENT</td>\n",
              "      <td>C2048537720</td>\n",
              "      <td>41554.0</td>\n",
              "      <td>29885.86</td>\n",
              "      <td>M1230701703</td>\n",
              "      <td>0.0</td>\n",
              "      <td>0.0</td>\n",
              "      <td>0</td>\n",
              "      <td>0</td>\n",
              "      <td>-0.278532</td>\n",
              "      <td>-1.703042</td>\n",
              "    </tr>\n",
              "  </tbody>\n",
              "</table>\n",
              "</div>"
            ],
            "text/plain": [
              "       type     nameOrig  oldbalanceOrg  ...  isFlaggedFraud std_amount  std_step\n",
              "0   PAYMENT  C1231006815       170136.0  ...               0  -0.281560 -1.703042\n",
              "1   PAYMENT  C1666544295        21249.0  ...               0  -0.294767 -1.703042\n",
              "2  TRANSFER  C1305486145          181.0  ...               0  -0.297555 -1.703042\n",
              "3  CASH_OUT   C840083671          181.0  ...               0  -0.297555 -1.703042\n",
              "4   PAYMENT  C2048537720        41554.0  ...               0  -0.278532 -1.703042\n",
              "\n",
              "[5 rows x 11 columns]"
            ]
          },
          "metadata": {},
          "execution_count": 153
        }
      ]
    },
    {
      "cell_type": "markdown",
      "metadata": {
        "id": "BFFK9iXD4pK1"
      },
      "source": [
        "###Transformar a variável Type em numérica (Label Encoder)\n",
        "\n"
      ]
    },
    {
      "cell_type": "markdown",
      "metadata": {
        "id": "MDSWE7F96C34"
      },
      "source": [
        "Irei transformar a variável categórica Type em uma variável numérica (que é o padrão usado em algoritmos de ML). Para isso usarei o LabelEncoder do sklearn."
      ]
    },
    {
      "cell_type": "code",
      "metadata": {
        "id": "phS2q7Rk41Se"
      },
      "source": [
        "from sklearn import preprocessing\n",
        "\n",
        "le = preprocessing.LabelEncoder()\n",
        "df_clean['Num_Type'] = le.fit_transform(df_clean['type'])"
      ],
      "execution_count": 154,
      "outputs": []
    },
    {
      "cell_type": "code",
      "metadata": {
        "colab": {
          "base_uri": "https://localhost:8080/",
          "height": 224
        },
        "id": "fSKNagHU5q8l",
        "outputId": "c44c0501-ce89-456d-a686-9cddf1971753"
      },
      "source": [
        "df_clean.drop(['type'], axis=1, inplace=True)\n",
        "\n",
        "#Ver os dados novamente para saber se a coluna type foi devidamente removida\n",
        "df_clean.head()"
      ],
      "execution_count": 155,
      "outputs": [
        {
          "output_type": "execute_result",
          "data": {
            "text/html": [
              "<div>\n",
              "<style scoped>\n",
              "    .dataframe tbody tr th:only-of-type {\n",
              "        vertical-align: middle;\n",
              "    }\n",
              "\n",
              "    .dataframe tbody tr th {\n",
              "        vertical-align: top;\n",
              "    }\n",
              "\n",
              "    .dataframe thead th {\n",
              "        text-align: right;\n",
              "    }\n",
              "</style>\n",
              "<table border=\"1\" class=\"dataframe\">\n",
              "  <thead>\n",
              "    <tr style=\"text-align: right;\">\n",
              "      <th></th>\n",
              "      <th>nameOrig</th>\n",
              "      <th>oldbalanceOrg</th>\n",
              "      <th>newbalanceOrig</th>\n",
              "      <th>nameDest</th>\n",
              "      <th>oldbalanceDest</th>\n",
              "      <th>newbalanceDest</th>\n",
              "      <th>isFraud</th>\n",
              "      <th>isFlaggedFraud</th>\n",
              "      <th>std_amount</th>\n",
              "      <th>std_step</th>\n",
              "      <th>Num_Type</th>\n",
              "    </tr>\n",
              "  </thead>\n",
              "  <tbody>\n",
              "    <tr>\n",
              "      <th>0</th>\n",
              "      <td>C1231006815</td>\n",
              "      <td>170136.0</td>\n",
              "      <td>160296.36</td>\n",
              "      <td>M1979787155</td>\n",
              "      <td>0.0</td>\n",
              "      <td>0.0</td>\n",
              "      <td>0</td>\n",
              "      <td>0</td>\n",
              "      <td>-0.281560</td>\n",
              "      <td>-1.703042</td>\n",
              "      <td>3</td>\n",
              "    </tr>\n",
              "    <tr>\n",
              "      <th>1</th>\n",
              "      <td>C1666544295</td>\n",
              "      <td>21249.0</td>\n",
              "      <td>19384.72</td>\n",
              "      <td>M2044282225</td>\n",
              "      <td>0.0</td>\n",
              "      <td>0.0</td>\n",
              "      <td>0</td>\n",
              "      <td>0</td>\n",
              "      <td>-0.294767</td>\n",
              "      <td>-1.703042</td>\n",
              "      <td>3</td>\n",
              "    </tr>\n",
              "    <tr>\n",
              "      <th>2</th>\n",
              "      <td>C1305486145</td>\n",
              "      <td>181.0</td>\n",
              "      <td>0.00</td>\n",
              "      <td>C553264065</td>\n",
              "      <td>0.0</td>\n",
              "      <td>0.0</td>\n",
              "      <td>1</td>\n",
              "      <td>0</td>\n",
              "      <td>-0.297555</td>\n",
              "      <td>-1.703042</td>\n",
              "      <td>4</td>\n",
              "    </tr>\n",
              "    <tr>\n",
              "      <th>3</th>\n",
              "      <td>C840083671</td>\n",
              "      <td>181.0</td>\n",
              "      <td>0.00</td>\n",
              "      <td>C38997010</td>\n",
              "      <td>21182.0</td>\n",
              "      <td>0.0</td>\n",
              "      <td>1</td>\n",
              "      <td>0</td>\n",
              "      <td>-0.297555</td>\n",
              "      <td>-1.703042</td>\n",
              "      <td>1</td>\n",
              "    </tr>\n",
              "    <tr>\n",
              "      <th>4</th>\n",
              "      <td>C2048537720</td>\n",
              "      <td>41554.0</td>\n",
              "      <td>29885.86</td>\n",
              "      <td>M1230701703</td>\n",
              "      <td>0.0</td>\n",
              "      <td>0.0</td>\n",
              "      <td>0</td>\n",
              "      <td>0</td>\n",
              "      <td>-0.278532</td>\n",
              "      <td>-1.703042</td>\n",
              "      <td>3</td>\n",
              "    </tr>\n",
              "  </tbody>\n",
              "</table>\n",
              "</div>"
            ],
            "text/plain": [
              "      nameOrig  oldbalanceOrg  newbalanceOrig  ... std_amount  std_step  Num_Type\n",
              "0  C1231006815       170136.0       160296.36  ...  -0.281560 -1.703042         3\n",
              "1  C1666544295        21249.0        19384.72  ...  -0.294767 -1.703042         3\n",
              "2  C1305486145          181.0            0.00  ...  -0.297555 -1.703042         4\n",
              "3   C840083671          181.0            0.00  ...  -0.297555 -1.703042         1\n",
              "4  C2048537720        41554.0        29885.86  ...  -0.278532 -1.703042         3\n",
              "\n",
              "[5 rows x 11 columns]"
            ]
          },
          "metadata": {},
          "execution_count": 155
        }
      ]
    },
    {
      "cell_type": "markdown",
      "metadata": {
        "id": "va7x3WgqsJeJ"
      },
      "source": [
        "###Preencher os dados ausentes em clientes que começam com M"
      ]
    },
    {
      "cell_type": "markdown",
      "metadata": {
        "id": "ALDJqcQFyWXO"
      },
      "source": [
        "Para essa etapa, irei substituir os valores oldbalanceDest e newbalanceDest dos clientes destinatários que começam com a letra M pela média.\n",
        "\n",
        "Para isso, calculei a média das colunas e fiz a atribuição dos valores.\n",
        "\n",
        "Podemos ver que o dataset foi de fato atualizado com o comando abaixo"
      ]
    },
    {
      "cell_type": "code",
      "metadata": {
        "id": "iPVNUFx4sprh"
      },
      "source": [
        "meanOldBalanceDest = np.mean(df['oldbalanceDest'])\n",
        "df_clean.loc[df_clean.nameDest.str.startswith('M'), 'oldbalanceDest'] = meanOldBalanceDest\n",
        "\n",
        "meanNewBalanceDest = np.mean(df['newbalanceDest'])\n",
        "df_clean.loc[df_clean.nameDest.str.startswith('M'), 'newbalanceDest'] = meanNewBalanceDest\n"
      ],
      "execution_count": 156,
      "outputs": []
    },
    {
      "cell_type": "code",
      "metadata": {
        "colab": {
          "base_uri": "https://localhost:8080/"
        },
        "id": "-fruNDlJsdtu",
        "outputId": "5d7a4c58-4670-42b3-8911-9139a3c27deb"
      },
      "source": [
        "df_clean.loc[df.nameDest.str.startswith('M'), 'newbalanceDest']"
      ],
      "execution_count": 157,
      "outputs": [
        {
          "output_type": "execute_result",
          "data": {
            "text/plain": [
              "0          1.224996e+06\n",
              "1          1.224996e+06\n",
              "4          1.224996e+06\n",
              "5          1.224996e+06\n",
              "6          1.224996e+06\n",
              "               ...     \n",
              "6362312    1.224996e+06\n",
              "6362314    1.224996e+06\n",
              "6362316    1.224996e+06\n",
              "6362318    1.224996e+06\n",
              "6362319    1.224996e+06\n",
              "Name: newbalanceDest, Length: 2151495, dtype: float64"
            ]
          },
          "metadata": {},
          "execution_count": 157
        }
      ]
    },
    {
      "cell_type": "markdown",
      "metadata": {
        "id": "OYi5lw872-OG"
      },
      "source": [
        "Agora que tratamos os clientes que começam com a letra M, iremos eliminar as colunas que representam nomes, pois elas não serão significativas em nosso modelo."
      ]
    },
    {
      "cell_type": "code",
      "metadata": {
        "colab": {
          "base_uri": "https://localhost:8080/",
          "height": 224
        },
        "id": "w9If2H9I3F3e",
        "outputId": "285da3cb-7733-4cbf-d48a-aedd8ed721ec"
      },
      "source": [
        "df_clean.drop(['nameOrig', 'nameDest'], axis=1, inplace=True)\n",
        "\n",
        "df_clean.head()"
      ],
      "execution_count": 158,
      "outputs": [
        {
          "output_type": "execute_result",
          "data": {
            "text/html": [
              "<div>\n",
              "<style scoped>\n",
              "    .dataframe tbody tr th:only-of-type {\n",
              "        vertical-align: middle;\n",
              "    }\n",
              "\n",
              "    .dataframe tbody tr th {\n",
              "        vertical-align: top;\n",
              "    }\n",
              "\n",
              "    .dataframe thead th {\n",
              "        text-align: right;\n",
              "    }\n",
              "</style>\n",
              "<table border=\"1\" class=\"dataframe\">\n",
              "  <thead>\n",
              "    <tr style=\"text-align: right;\">\n",
              "      <th></th>\n",
              "      <th>oldbalanceOrg</th>\n",
              "      <th>newbalanceOrig</th>\n",
              "      <th>oldbalanceDest</th>\n",
              "      <th>newbalanceDest</th>\n",
              "      <th>isFraud</th>\n",
              "      <th>isFlaggedFraud</th>\n",
              "      <th>std_amount</th>\n",
              "      <th>std_step</th>\n",
              "      <th>Num_Type</th>\n",
              "    </tr>\n",
              "  </thead>\n",
              "  <tbody>\n",
              "    <tr>\n",
              "      <th>0</th>\n",
              "      <td>170136.0</td>\n",
              "      <td>160296.36</td>\n",
              "      <td>1.100702e+06</td>\n",
              "      <td>1.224996e+06</td>\n",
              "      <td>0</td>\n",
              "      <td>0</td>\n",
              "      <td>-0.281560</td>\n",
              "      <td>-1.703042</td>\n",
              "      <td>3</td>\n",
              "    </tr>\n",
              "    <tr>\n",
              "      <th>1</th>\n",
              "      <td>21249.0</td>\n",
              "      <td>19384.72</td>\n",
              "      <td>1.100702e+06</td>\n",
              "      <td>1.224996e+06</td>\n",
              "      <td>0</td>\n",
              "      <td>0</td>\n",
              "      <td>-0.294767</td>\n",
              "      <td>-1.703042</td>\n",
              "      <td>3</td>\n",
              "    </tr>\n",
              "    <tr>\n",
              "      <th>2</th>\n",
              "      <td>181.0</td>\n",
              "      <td>0.00</td>\n",
              "      <td>0.000000e+00</td>\n",
              "      <td>0.000000e+00</td>\n",
              "      <td>1</td>\n",
              "      <td>0</td>\n",
              "      <td>-0.297555</td>\n",
              "      <td>-1.703042</td>\n",
              "      <td>4</td>\n",
              "    </tr>\n",
              "    <tr>\n",
              "      <th>3</th>\n",
              "      <td>181.0</td>\n",
              "      <td>0.00</td>\n",
              "      <td>2.118200e+04</td>\n",
              "      <td>0.000000e+00</td>\n",
              "      <td>1</td>\n",
              "      <td>0</td>\n",
              "      <td>-0.297555</td>\n",
              "      <td>-1.703042</td>\n",
              "      <td>1</td>\n",
              "    </tr>\n",
              "    <tr>\n",
              "      <th>4</th>\n",
              "      <td>41554.0</td>\n",
              "      <td>29885.86</td>\n",
              "      <td>1.100702e+06</td>\n",
              "      <td>1.224996e+06</td>\n",
              "      <td>0</td>\n",
              "      <td>0</td>\n",
              "      <td>-0.278532</td>\n",
              "      <td>-1.703042</td>\n",
              "      <td>3</td>\n",
              "    </tr>\n",
              "  </tbody>\n",
              "</table>\n",
              "</div>"
            ],
            "text/plain": [
              "   oldbalanceOrg  newbalanceOrig  ...  std_step  Num_Type\n",
              "0       170136.0       160296.36  ... -1.703042         3\n",
              "1        21249.0        19384.72  ... -1.703042         3\n",
              "2          181.0            0.00  ... -1.703042         4\n",
              "3          181.0            0.00  ... -1.703042         1\n",
              "4        41554.0        29885.86  ... -1.703042         3\n",
              "\n",
              "[5 rows x 9 columns]"
            ]
          },
          "metadata": {},
          "execution_count": 158
        }
      ]
    },
    {
      "cell_type": "markdown",
      "metadata": {
        "id": "HmJ4WQefy_sX"
      },
      "source": [
        "###Dividir entre conjunto de treino e teste"
      ]
    },
    {
      "cell_type": "markdown",
      "metadata": {
        "id": "0veacWgEzDH6"
      },
      "source": [
        "Antes de balancear os dados, irei splitar os dados já existentes em treino e teste. Caso contrário, não teríamos parâmetros para conferir se o balanceamento foi adequado.\n",
        "\n",
        "Irei garantir que os conjuntos de treino e teste tenham a mesma quantidade de transações normais e transações fraudulentas proporcionalmente, através do comando stratify=y"
      ]
    },
    {
      "cell_type": "code",
      "metadata": {
        "id": "MZVPL0sAzCfX"
      },
      "source": [
        "X = df_clean.drop('isFraud', axis=1)\n",
        "y = df['isFraud']\n",
        "\n",
        "# dividir o dataset entre treino e teste\n",
        "X_train, X_test, y_train, y_test = train_test_split(X, y, stratify=y, shuffle=True)"
      ],
      "execution_count": 159,
      "outputs": []
    },
    {
      "cell_type": "markdown",
      "metadata": {
        "id": "mz3H8qEU0xEe"
      },
      "source": [
        "###Balanceamento dos dados"
      ]
    },
    {
      "cell_type": "markdown",
      "metadata": {
        "id": "7nJRQspq02Tv"
      },
      "source": [
        "Usarei a biblioteca *imblearn* para aplicar a técnica de balanceamento dos dados. Neste caso, usarei Under-sampling, preservando a classe minoritária.\n",
        "\n",
        "Assim, fica fácil observar que não temos mais aquela discrepância inicial (gráfico de barras do início)."
      ]
    },
    {
      "cell_type": "code",
      "metadata": {
        "colab": {
          "base_uri": "https://localhost:8080/",
          "height": 316
        },
        "id": "zrW9Mpia1NkP",
        "outputId": "7fdd4454-093e-4b76-9a3b-e0448c38d85f"
      },
      "source": [
        "# usar técnica under-sampling\n",
        "rus = RandomUnderSampler()\n",
        "X_rus, y_rus = rus.fit_sample(X_train, y_train)\n",
        "\n",
        "# ver o balanceamento das classes\n",
        "print(pd.Series(y_rus).value_counts())\n",
        "\n",
        "# plotar a nova distribuição de classes\n",
        "sns.countplot(y_rus);"
      ],
      "execution_count": 160,
      "outputs": [
        {
          "output_type": "stream",
          "name": "stdout",
          "text": [
            "1    6160\n",
            "0    6160\n",
            "dtype: int64\n"
          ]
        },
        {
          "output_type": "display_data",
          "data": {
            "image/png": "[encoded data removed]",
            "text/plain": [
              "<Figure size 432x288 with 1 Axes>"
            ]
          },
          "metadata": {}
        }
      ]
    },
    {
      "cell_type": "markdown",
      "metadata": {
        "id": "X-kifSkg1ZXs"
      },
      "source": [
        "Com os dados balanceados, podemos ver a matriz de correlação e identificar quais variáveis estão mais fortemente relacionadas com as outras.\n",
        "\n",
        "Observe como anteriormente, sem o balanceamento de dados, a matriz de correlação não trazia muita informação relevante. Entretanto, ela traz muito mais informações após um correto balanceamento."
      ]
    },
    {
      "cell_type": "code",
      "metadata": {
        "colab": {
          "base_uri": "https://localhost:8080/",
          "height": 372
        },
        "id": "C1IBUArK1QxV",
        "outputId": "14c1c416-41ab-4949-f7c1-21b02a1ffac9"
      },
      "source": [
        "# plotar a matriz de correlação\n",
        "corr = X_train.corr()\n",
        "corr_rus = pd.DataFrame(X_rus).corr()\n",
        "\n",
        "fig, ax = plt.subplots(nrows=1, ncols=2, figsize = (18,8))\n",
        "fig.suptitle('Matriz de Correlação')\n",
        "\n",
        "sns.heatmap(corr, xticklabels=corr.columns, yticklabels=corr.columns,\n",
        "            linewidths=.1, cmap=\"coolwarm\", ax=ax[0])\n",
        "\n",
        "ax[0].set_title('Desbalanceado')\n",
        "\n",
        "sns.heatmap(corr_rus, xticklabels=corr.columns, yticklabels=corr.columns,\n",
        "            linewidths=.1, cmap=\"coolwarm\", ax=ax[1])\n",
        "\n",
        "ax[1].set_title('Balanceado')\n",
        "\n",
        "plt.show()"
      ],
      "execution_count": 162,
      "outputs": [
        {
          "output_type": "display_data",
          "data": {
            "image/png": "[encoded data removed]",
            "text/plain": [
              "<Figure size 1296x576 with 4 Axes>"
            ]
          },
          "metadata": {}
        }
      ]
    },
    {
      "cell_type": "markdown",
      "metadata": {
        "id": "fZSsluyt6rHl"
      },
      "source": [
        "###Modelo de Machine Learning"
      ]
    },
    {
      "cell_type": "markdown",
      "metadata": {
        "id": "lBEi8Vms6u7F"
      },
      "source": [
        "Com todos os dados pré-processados e após a análise exploratória completa, irei construir o classificador usando a Regressão Logística.\n",
        "\n",
        "O mesmo será treinado em cima dos dados X_rus e y_rus. Na sequência, serão realizadas previsões sobre os dados de teste."
      ]
    },
    {
      "cell_type": "code",
      "metadata": {
        "id": "87njgWGi6trt"
      },
      "source": [
        "# instanciar e treinar um modelo de Regressão Logística\n",
        "np.random.seed(2)\n",
        "model = LogisticRegression()\n",
        "model.fit(X_rus, y_rus)\n",
        "\n",
        "# fazer as previsões em cima dos dados de teste\n",
        "y_pred = model.predict(X_test)\n",
        "y_proba = model.predict_proba(X_test)"
      ],
      "execution_count": 163,
      "outputs": []
    },
    {
      "cell_type": "markdown",
      "metadata": {
        "id": "D06E-Npw7IhX"
      },
      "source": [
        "Com o modelo treinado e as previsões feitas, parte-se para a avaliação do desempenho.\n",
        "\n",
        "É possível observar a matriz de confusão para ver a taxa de acertos para transações fraudulentas, ou pela coluna recall do Relatório de Classificação.\n",
        "\n",
        "Uma outra métrica considerada interessante para se avaliar a eficácia é a AUC ROC, ou área sob a curva. No caso desse modelo de Regressão Logística, tem-se 95% de AUC"
      ]
    },
    {
      "cell_type": "code",
      "metadata": {
        "colab": {
          "base_uri": "https://localhost:8080/",
          "height": 533
        },
        "id": "O_BDLmHh7DGM",
        "outputId": "d30d1f0d-b0b9-48d7-8f62-70c87c5a9235"
      },
      "source": [
        "# plotar a matrix de confusão\n",
        "skplt.metrics.plot_confusion_matrix(y_test, y_pred, normalize=True)\n",
        "\n",
        "# imprimir relatório de classificação\n",
        "print(\"Relatório de Classificação:\\n\", classification_report(y_test, y_pred, digits=4))\n",
        "\n",
        "# imprimir a acurácia do modelo\n",
        "print(\"Acurácia: {:.4f}\\n\".format(accuracy_score(y_test, y_pred)))\n",
        "\n",
        "# imprimir a área sob da curva\n",
        "print(\"AUC: {:.4f}\\n\".format(roc_auc_score(y_test, y_pred)))"
      ],
      "execution_count": 164,
      "outputs": [
        {
          "output_type": "stream",
          "name": "stdout",
          "text": [
            "Relatório de Classificação:\n",
            "               precision    recall  f1-score   support\n",
            "\n",
            "           0     1.0000    0.9389    0.9685   1588602\n",
            "           1     0.0203    0.9791    0.0397      2053\n",
            "\n",
            "    accuracy                         0.9389   1590655\n",
            "   macro avg     0.5101    0.9590    0.5041   1590655\n",
            "weighted avg     0.9987    0.9389    0.9673   1590655\n",
            "\n",
            "Acurácia: 0.9389\n",
            "\n",
            "AUC: 0.9590\n",
            "\n"
          ]
        },
        {
          "output_type": "display_data",
          "data": {
            "image/png": "[encoded data removed]",
            "text/plain": [
              "<Figure size 432x288 with 2 Axes>"
            ]
          },
          "metadata": {}
        }
      ]
    },
    {
      "cell_type": "markdown",
      "metadata": {
        "id": "mWnhSJVr70b9"
      },
      "source": [
        "##Conclusões"
      ]
    },
    {
      "cell_type": "markdown",
      "metadata": {
        "id": "E0uiZeI2723E"
      },
      "source": [
        "Como você pode observar, não se trata de um problema trivial. Apesar dos dados estarem bem tratados tinhamos variáveis ausentes no caso dos clientes destinatários e também variáveis categóricas para o tipo de transação. Além disso, o desbalanceamento demandou um trabalho considerável.\n",
        "\n",
        "Obviamente, apesar do bom resultado final, há espaço para testar o desempenho com outros algoritmos de classificação, além de otimizar seus parâmetros."
      ]
    }
  ]
}