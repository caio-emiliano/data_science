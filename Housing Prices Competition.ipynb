{
  "nbformat": 4,
  "nbformat_minor": 0,
  "metadata": {
    "colab": {
      "name": "Housing Prices Competition.ipynb",
      "provenance": [],
      "collapsed_sections": [],
      "authorship_tag": "ABX9TyOzoETYhnch6cYffSH9oAgF",
      "include_colab_link": true
    },
    "kernelspec": {
      "name": "python3",
      "display_name": "Python 3"
    }
  },
  "cells": [
    {
      "cell_type": "markdown",
      "metadata": {
        "id": "view-in-github",
        "colab_type": "text"
      },
      "source": [
        "<a href=\"https://colab.research.google.com/github/caio-emiliano/data_science/blob/main/Housing%20Prices%20Competition.ipynb\" target=\"_parent\"><img src=\"https://colab.research.google.com/assets/colab-badge.svg\" alt=\"Open In Colab\"/></a>"
      ]
    },
    {
      "cell_type": "markdown",
      "metadata": {
        "id": "6-4goVycR2pg"
      },
      "source": [
        "# House Price Competition - Análise Exploratória dos Dados e Treinamento de Modelo de Predição"
      ]
    },
    {
      "cell_type": "code",
      "metadata": {
        "id": "TYz6TB7VcrQx"
      },
      "source": [
        "import numpy as np\n",
        "import pandas as pd\n",
        "\n",
        "from sklearn.metrics import mean_absolute_error\n",
        "from sklearn.model_selection import train_test_split\n",
        "from sklearn.ensemble import RandomForestRegressor"
      ],
      "execution_count": null,
      "outputs": []
    },
    {
      "cell_type": "code",
      "metadata": {
        "id": "xNdMRMjLdoJO"
      },
      "source": [
        "#Iremos ler os dados dos arquivos CSVs e criar um DataFrame para estes.\n",
        "train = pd.read_csv('train.csv')\n",
        "test = pd.read_csv('test.csv')"
      ],
      "execution_count": null,
      "outputs": []
    },
    {
      "cell_type": "code",
      "metadata": {
        "colab": {
          "base_uri": "https://localhost:8080/"
        },
        "id": "9V7qiiaWdu3F",
        "outputId": "2fbf918e-c366-45ea-bd6b-f361cf5fa5f1"
      },
      "source": [
        "#Dimensões dos Dados:\n",
        "print(\"DIMENSÕES DO DATAFRAME TRAIN:\")\n",
        "print(\"Linhas:\\t\\t{}\".format(train.shape[0]))\n",
        "print(\"Colunas:\\t{}\".format(train.shape[1]))\n",
        "print(\"DIMENSÕES DO DATAFRAME TEST:\")\n",
        "print(\"Linhas:\\t\\t{}\".format(test.shape[0]))\n",
        "print(\"Colunas:\\t{}\".format(test.shape[1]))"
      ],
      "execution_count": null,
      "outputs": [
        {
          "output_type": "stream",
          "text": [
            "DIMENSÕES DO DATAFRAME TRAIN:\n",
            "Linhas:\t\t1460\n",
            "Colunas:\t81\n",
            "DIMENSÕES DO DATAFRAME TEST:\n",
            "Linhas:\t\t1459\n",
            "Colunas:\t80\n"
          ],
          "name": "stdout"
        }
      ]
    },
    {
      "cell_type": "code",
      "metadata": {
        "id": "i5RfHdiZADqr"
      },
      "source": [
        "#Como o Dataframe possui 81 colunas e o máximo de linhas que o Pandas mostra é 60, não conseguimos ver os dados de todas as colunas\n",
        "#ao tentarmos analisar o tipo de dados de cada coluna.\n",
        "pd.get_option(\"display.max_rows\")\n",
        "\n",
        "#Por isso, é necessário desabilitar o limite de linhas a serem mostradas\n",
        "pd.set_option('display.max_rows', None)"
      ],
      "execution_count": null,
      "outputs": []
    },
    {
      "cell_type": "code",
      "metadata": {
        "id": "50XJi-R4eEfH",
        "colab": {
          "base_uri": "https://localhost:8080/",
          "height": 253
        },
        "outputId": "366fe5da-39cf-4484-dd26-e3960dd8493e"
      },
      "source": [
        "train.head()"
      ],
      "execution_count": null,
      "outputs": [
        {
          "output_type": "execute_result",
          "data": {
            "text/html": [
              "<div>\n",
              "<style scoped>\n",
              "    .dataframe tbody tr th:only-of-type {\n",
              "        vertical-align: middle;\n",
              "    }\n",
              "\n",
              "    .dataframe tbody tr th {\n",
              "        vertical-align: top;\n",
              "    }\n",
              "\n",
              "    .dataframe thead th {\n",
              "        text-align: right;\n",
              "    }\n",
              "</style>\n",
              "<table border=\"1\" class=\"dataframe\">\n",
              "  <thead>\n",
              "    <tr style=\"text-align: right;\">\n",
              "      <th></th>\n",
              "      <th>Id</th>\n",
              "      <th>MSSubClass</th>\n",
              "      <th>MSZoning</th>\n",
              "      <th>LotFrontage</th>\n",
              "      <th>LotArea</th>\n",
              "      <th>Street</th>\n",
              "      <th>Alley</th>\n",
              "      <th>LotShape</th>\n",
              "      <th>LandContour</th>\n",
              "      <th>Utilities</th>\n",
              "      <th>LotConfig</th>\n",
              "      <th>LandSlope</th>\n",
              "      <th>Neighborhood</th>\n",
              "      <th>Condition1</th>\n",
              "      <th>Condition2</th>\n",
              "      <th>BldgType</th>\n",
              "      <th>HouseStyle</th>\n",
              "      <th>OverallQual</th>\n",
              "      <th>OverallCond</th>\n",
              "      <th>YearBuilt</th>\n",
              "      <th>YearRemodAdd</th>\n",
              "      <th>RoofStyle</th>\n",
              "      <th>RoofMatl</th>\n",
              "      <th>Exterior1st</th>\n",
              "      <th>Exterior2nd</th>\n",
              "      <th>MasVnrType</th>\n",
              "      <th>MasVnrArea</th>\n",
              "      <th>ExterQual</th>\n",
              "      <th>ExterCond</th>\n",
              "      <th>Foundation</th>\n",
              "      <th>BsmtQual</th>\n",
              "      <th>BsmtCond</th>\n",
              "      <th>BsmtExposure</th>\n",
              "      <th>BsmtFinType1</th>\n",
              "      <th>BsmtFinSF1</th>\n",
              "      <th>BsmtFinType2</th>\n",
              "      <th>BsmtFinSF2</th>\n",
              "      <th>BsmtUnfSF</th>\n",
              "      <th>TotalBsmtSF</th>\n",
              "      <th>Heating</th>\n",
              "      <th>...</th>\n",
              "      <th>CentralAir</th>\n",
              "      <th>Electrical</th>\n",
              "      <th>1stFlrSF</th>\n",
              "      <th>2ndFlrSF</th>\n",
              "      <th>LowQualFinSF</th>\n",
              "      <th>GrLivArea</th>\n",
              "      <th>BsmtFullBath</th>\n",
              "      <th>BsmtHalfBath</th>\n",
              "      <th>FullBath</th>\n",
              "      <th>HalfBath</th>\n",
              "      <th>BedroomAbvGr</th>\n",
              "      <th>KitchenAbvGr</th>\n",
              "      <th>KitchenQual</th>\n",
              "      <th>TotRmsAbvGrd</th>\n",
              "      <th>Functional</th>\n",
              "      <th>Fireplaces</th>\n",
              "      <th>FireplaceQu</th>\n",
              "      <th>GarageType</th>\n",
              "      <th>GarageYrBlt</th>\n",
              "      <th>GarageFinish</th>\n",
              "      <th>GarageCars</th>\n",
              "      <th>GarageArea</th>\n",
              "      <th>GarageQual</th>\n",
              "      <th>GarageCond</th>\n",
              "      <th>PavedDrive</th>\n",
              "      <th>WoodDeckSF</th>\n",
              "      <th>OpenPorchSF</th>\n",
              "      <th>EnclosedPorch</th>\n",
              "      <th>3SsnPorch</th>\n",
              "      <th>ScreenPorch</th>\n",
              "      <th>PoolArea</th>\n",
              "      <th>PoolQC</th>\n",
              "      <th>Fence</th>\n",
              "      <th>MiscFeature</th>\n",
              "      <th>MiscVal</th>\n",
              "      <th>MoSold</th>\n",
              "      <th>YrSold</th>\n",
              "      <th>SaleType</th>\n",
              "      <th>SaleCondition</th>\n",
              "      <th>SalePrice</th>\n",
              "    </tr>\n",
              "  </thead>\n",
              "  <tbody>\n",
              "    <tr>\n",
              "      <th>0</th>\n",
              "      <td>1</td>\n",
              "      <td>60</td>\n",
              "      <td>RL</td>\n",
              "      <td>65.0</td>\n",
              "      <td>8450</td>\n",
              "      <td>Pave</td>\n",
              "      <td>NaN</td>\n",
              "      <td>Reg</td>\n",
              "      <td>Lvl</td>\n",
              "      <td>AllPub</td>\n",
              "      <td>Inside</td>\n",
              "      <td>Gtl</td>\n",
              "      <td>CollgCr</td>\n",
              "      <td>Norm</td>\n",
              "      <td>Norm</td>\n",
              "      <td>1Fam</td>\n",
              "      <td>2Story</td>\n",
              "      <td>7</td>\n",
              "      <td>5</td>\n",
              "      <td>2003</td>\n",
              "      <td>2003</td>\n",
              "      <td>Gable</td>\n",
              "      <td>CompShg</td>\n",
              "      <td>VinylSd</td>\n",
              "      <td>VinylSd</td>\n",
              "      <td>BrkFace</td>\n",
              "      <td>196.0</td>\n",
              "      <td>Gd</td>\n",
              "      <td>TA</td>\n",
              "      <td>PConc</td>\n",
              "      <td>Gd</td>\n",
              "      <td>TA</td>\n",
              "      <td>No</td>\n",
              "      <td>GLQ</td>\n",
              "      <td>706</td>\n",
              "      <td>Unf</td>\n",
              "      <td>0</td>\n",
              "      <td>150</td>\n",
              "      <td>856</td>\n",
              "      <td>GasA</td>\n",
              "      <td>...</td>\n",
              "      <td>Y</td>\n",
              "      <td>SBrkr</td>\n",
              "      <td>856</td>\n",
              "      <td>854</td>\n",
              "      <td>0</td>\n",
              "      <td>1710</td>\n",
              "      <td>1</td>\n",
              "      <td>0</td>\n",
              "      <td>2</td>\n",
              "      <td>1</td>\n",
              "      <td>3</td>\n",
              "      <td>1</td>\n",
              "      <td>Gd</td>\n",
              "      <td>8</td>\n",
              "      <td>Typ</td>\n",
              "      <td>0</td>\n",
              "      <td>NaN</td>\n",
              "      <td>Attchd</td>\n",
              "      <td>2003.0</td>\n",
              "      <td>RFn</td>\n",
              "      <td>2</td>\n",
              "      <td>548</td>\n",
              "      <td>TA</td>\n",
              "      <td>TA</td>\n",
              "      <td>Y</td>\n",
              "      <td>0</td>\n",
              "      <td>61</td>\n",
              "      <td>0</td>\n",
              "      <td>0</td>\n",
              "      <td>0</td>\n",
              "      <td>0</td>\n",
              "      <td>NaN</td>\n",
              "      <td>NaN</td>\n",
              "      <td>NaN</td>\n",
              "      <td>0</td>\n",
              "      <td>2</td>\n",
              "      <td>2008</td>\n",
              "      <td>WD</td>\n",
              "      <td>Normal</td>\n",
              "      <td>208500</td>\n",
              "    </tr>\n",
              "    <tr>\n",
              "      <th>1</th>\n",
              "      <td>2</td>\n",
              "      <td>20</td>\n",
              "      <td>RL</td>\n",
              "      <td>80.0</td>\n",
              "      <td>9600</td>\n",
              "      <td>Pave</td>\n",
              "      <td>NaN</td>\n",
              "      <td>Reg</td>\n",
              "      <td>Lvl</td>\n",
              "      <td>AllPub</td>\n",
              "      <td>FR2</td>\n",
              "      <td>Gtl</td>\n",
              "      <td>Veenker</td>\n",
              "      <td>Feedr</td>\n",
              "      <td>Norm</td>\n",
              "      <td>1Fam</td>\n",
              "      <td>1Story</td>\n",
              "      <td>6</td>\n",
              "      <td>8</td>\n",
              "      <td>1976</td>\n",
              "      <td>1976</td>\n",
              "      <td>Gable</td>\n",
              "      <td>CompShg</td>\n",
              "      <td>MetalSd</td>\n",
              "      <td>MetalSd</td>\n",
              "      <td>None</td>\n",
              "      <td>0.0</td>\n",
              "      <td>TA</td>\n",
              "      <td>TA</td>\n",
              "      <td>CBlock</td>\n",
              "      <td>Gd</td>\n",
              "      <td>TA</td>\n",
              "      <td>Gd</td>\n",
              "      <td>ALQ</td>\n",
              "      <td>978</td>\n",
              "      <td>Unf</td>\n",
              "      <td>0</td>\n",
              "      <td>284</td>\n",
              "      <td>1262</td>\n",
              "      <td>GasA</td>\n",
              "      <td>...</td>\n",
              "      <td>Y</td>\n",
              "      <td>SBrkr</td>\n",
              "      <td>1262</td>\n",
              "      <td>0</td>\n",
              "      <td>0</td>\n",
              "      <td>1262</td>\n",
              "      <td>0</td>\n",
              "      <td>1</td>\n",
              "      <td>2</td>\n",
              "      <td>0</td>\n",
              "      <td>3</td>\n",
              "      <td>1</td>\n",
              "      <td>TA</td>\n",
              "      <td>6</td>\n",
              "      <td>Typ</td>\n",
              "      <td>1</td>\n",
              "      <td>TA</td>\n",
              "      <td>Attchd</td>\n",
              "      <td>1976.0</td>\n",
              "      <td>RFn</td>\n",
              "      <td>2</td>\n",
              "      <td>460</td>\n",
              "      <td>TA</td>\n",
              "      <td>TA</td>\n",
              "      <td>Y</td>\n",
              "      <td>298</td>\n",
              "      <td>0</td>\n",
              "      <td>0</td>\n",
              "      <td>0</td>\n",
              "      <td>0</td>\n",
              "      <td>0</td>\n",
              "      <td>NaN</td>\n",
              "      <td>NaN</td>\n",
              "      <td>NaN</td>\n",
              "      <td>0</td>\n",
              "      <td>5</td>\n",
              "      <td>2007</td>\n",
              "      <td>WD</td>\n",
              "      <td>Normal</td>\n",
              "      <td>181500</td>\n",
              "    </tr>\n",
              "    <tr>\n",
              "      <th>2</th>\n",
              "      <td>3</td>\n",
              "      <td>60</td>\n",
              "      <td>RL</td>\n",
              "      <td>68.0</td>\n",
              "      <td>11250</td>\n",
              "      <td>Pave</td>\n",
              "      <td>NaN</td>\n",
              "      <td>IR1</td>\n",
              "      <td>Lvl</td>\n",
              "      <td>AllPub</td>\n",
              "      <td>Inside</td>\n",
              "      <td>Gtl</td>\n",
              "      <td>CollgCr</td>\n",
              "      <td>Norm</td>\n",
              "      <td>Norm</td>\n",
              "      <td>1Fam</td>\n",
              "      <td>2Story</td>\n",
              "      <td>7</td>\n",
              "      <td>5</td>\n",
              "      <td>2001</td>\n",
              "      <td>2002</td>\n",
              "      <td>Gable</td>\n",
              "      <td>CompShg</td>\n",
              "      <td>VinylSd</td>\n",
              "      <td>VinylSd</td>\n",
              "      <td>BrkFace</td>\n",
              "      <td>162.0</td>\n",
              "      <td>Gd</td>\n",
              "      <td>TA</td>\n",
              "      <td>PConc</td>\n",
              "      <td>Gd</td>\n",
              "      <td>TA</td>\n",
              "      <td>Mn</td>\n",
              "      <td>GLQ</td>\n",
              "      <td>486</td>\n",
              "      <td>Unf</td>\n",
              "      <td>0</td>\n",
              "      <td>434</td>\n",
              "      <td>920</td>\n",
              "      <td>GasA</td>\n",
              "      <td>...</td>\n",
              "      <td>Y</td>\n",
              "      <td>SBrkr</td>\n",
              "      <td>920</td>\n",
              "      <td>866</td>\n",
              "      <td>0</td>\n",
              "      <td>1786</td>\n",
              "      <td>1</td>\n",
              "      <td>0</td>\n",
              "      <td>2</td>\n",
              "      <td>1</td>\n",
              "      <td>3</td>\n",
              "      <td>1</td>\n",
              "      <td>Gd</td>\n",
              "      <td>6</td>\n",
              "      <td>Typ</td>\n",
              "      <td>1</td>\n",
              "      <td>TA</td>\n",
              "      <td>Attchd</td>\n",
              "      <td>2001.0</td>\n",
              "      <td>RFn</td>\n",
              "      <td>2</td>\n",
              "      <td>608</td>\n",
              "      <td>TA</td>\n",
              "      <td>TA</td>\n",
              "      <td>Y</td>\n",
              "      <td>0</td>\n",
              "      <td>42</td>\n",
              "      <td>0</td>\n",
              "      <td>0</td>\n",
              "      <td>0</td>\n",
              "      <td>0</td>\n",
              "      <td>NaN</td>\n",
              "      <td>NaN</td>\n",
              "      <td>NaN</td>\n",
              "      <td>0</td>\n",
              "      <td>9</td>\n",
              "      <td>2008</td>\n",
              "      <td>WD</td>\n",
              "      <td>Normal</td>\n",
              "      <td>223500</td>\n",
              "    </tr>\n",
              "    <tr>\n",
              "      <th>3</th>\n",
              "      <td>4</td>\n",
              "      <td>70</td>\n",
              "      <td>RL</td>\n",
              "      <td>60.0</td>\n",
              "      <td>9550</td>\n",
              "      <td>Pave</td>\n",
              "      <td>NaN</td>\n",
              "      <td>IR1</td>\n",
              "      <td>Lvl</td>\n",
              "      <td>AllPub</td>\n",
              "      <td>Corner</td>\n",
              "      <td>Gtl</td>\n",
              "      <td>Crawfor</td>\n",
              "      <td>Norm</td>\n",
              "      <td>Norm</td>\n",
              "      <td>1Fam</td>\n",
              "      <td>2Story</td>\n",
              "      <td>7</td>\n",
              "      <td>5</td>\n",
              "      <td>1915</td>\n",
              "      <td>1970</td>\n",
              "      <td>Gable</td>\n",
              "      <td>CompShg</td>\n",
              "      <td>Wd Sdng</td>\n",
              "      <td>Wd Shng</td>\n",
              "      <td>None</td>\n",
              "      <td>0.0</td>\n",
              "      <td>TA</td>\n",
              "      <td>TA</td>\n",
              "      <td>BrkTil</td>\n",
              "      <td>TA</td>\n",
              "      <td>Gd</td>\n",
              "      <td>No</td>\n",
              "      <td>ALQ</td>\n",
              "      <td>216</td>\n",
              "      <td>Unf</td>\n",
              "      <td>0</td>\n",
              "      <td>540</td>\n",
              "      <td>756</td>\n",
              "      <td>GasA</td>\n",
              "      <td>...</td>\n",
              "      <td>Y</td>\n",
              "      <td>SBrkr</td>\n",
              "      <td>961</td>\n",
              "      <td>756</td>\n",
              "      <td>0</td>\n",
              "      <td>1717</td>\n",
              "      <td>1</td>\n",
              "      <td>0</td>\n",
              "      <td>1</td>\n",
              "      <td>0</td>\n",
              "      <td>3</td>\n",
              "      <td>1</td>\n",
              "      <td>Gd</td>\n",
              "      <td>7</td>\n",
              "      <td>Typ</td>\n",
              "      <td>1</td>\n",
              "      <td>Gd</td>\n",
              "      <td>Detchd</td>\n",
              "      <td>1998.0</td>\n",
              "      <td>Unf</td>\n",
              "      <td>3</td>\n",
              "      <td>642</td>\n",
              "      <td>TA</td>\n",
              "      <td>TA</td>\n",
              "      <td>Y</td>\n",
              "      <td>0</td>\n",
              "      <td>35</td>\n",
              "      <td>272</td>\n",
              "      <td>0</td>\n",
              "      <td>0</td>\n",
              "      <td>0</td>\n",
              "      <td>NaN</td>\n",
              "      <td>NaN</td>\n",
              "      <td>NaN</td>\n",
              "      <td>0</td>\n",
              "      <td>2</td>\n",
              "      <td>2006</td>\n",
              "      <td>WD</td>\n",
              "      <td>Abnorml</td>\n",
              "      <td>140000</td>\n",
              "    </tr>\n",
              "    <tr>\n",
              "      <th>4</th>\n",
              "      <td>5</td>\n",
              "      <td>60</td>\n",
              "      <td>RL</td>\n",
              "      <td>84.0</td>\n",
              "      <td>14260</td>\n",
              "      <td>Pave</td>\n",
              "      <td>NaN</td>\n",
              "      <td>IR1</td>\n",
              "      <td>Lvl</td>\n",
              "      <td>AllPub</td>\n",
              "      <td>FR2</td>\n",
              "      <td>Gtl</td>\n",
              "      <td>NoRidge</td>\n",
              "      <td>Norm</td>\n",
              "      <td>Norm</td>\n",
              "      <td>1Fam</td>\n",
              "      <td>2Story</td>\n",
              "      <td>8</td>\n",
              "      <td>5</td>\n",
              "      <td>2000</td>\n",
              "      <td>2000</td>\n",
              "      <td>Gable</td>\n",
              "      <td>CompShg</td>\n",
              "      <td>VinylSd</td>\n",
              "      <td>VinylSd</td>\n",
              "      <td>BrkFace</td>\n",
              "      <td>350.0</td>\n",
              "      <td>Gd</td>\n",
              "      <td>TA</td>\n",
              "      <td>PConc</td>\n",
              "      <td>Gd</td>\n",
              "      <td>TA</td>\n",
              "      <td>Av</td>\n",
              "      <td>GLQ</td>\n",
              "      <td>655</td>\n",
              "      <td>Unf</td>\n",
              "      <td>0</td>\n",
              "      <td>490</td>\n",
              "      <td>1145</td>\n",
              "      <td>GasA</td>\n",
              "      <td>...</td>\n",
              "      <td>Y</td>\n",
              "      <td>SBrkr</td>\n",
              "      <td>1145</td>\n",
              "      <td>1053</td>\n",
              "      <td>0</td>\n",
              "      <td>2198</td>\n",
              "      <td>1</td>\n",
              "      <td>0</td>\n",
              "      <td>2</td>\n",
              "      <td>1</td>\n",
              "      <td>4</td>\n",
              "      <td>1</td>\n",
              "      <td>Gd</td>\n",
              "      <td>9</td>\n",
              "      <td>Typ</td>\n",
              "      <td>1</td>\n",
              "      <td>TA</td>\n",
              "      <td>Attchd</td>\n",
              "      <td>2000.0</td>\n",
              "      <td>RFn</td>\n",
              "      <td>3</td>\n",
              "      <td>836</td>\n",
              "      <td>TA</td>\n",
              "      <td>TA</td>\n",
              "      <td>Y</td>\n",
              "      <td>192</td>\n",
              "      <td>84</td>\n",
              "      <td>0</td>\n",
              "      <td>0</td>\n",
              "      <td>0</td>\n",
              "      <td>0</td>\n",
              "      <td>NaN</td>\n",
              "      <td>NaN</td>\n",
              "      <td>NaN</td>\n",
              "      <td>0</td>\n",
              "      <td>12</td>\n",
              "      <td>2008</td>\n",
              "      <td>WD</td>\n",
              "      <td>Normal</td>\n",
              "      <td>250000</td>\n",
              "    </tr>\n",
              "  </tbody>\n",
              "</table>\n",
              "<p>5 rows × 81 columns</p>\n",
              "</div>"
            ],
            "text/plain": [
              "   Id  MSSubClass MSZoning  ...  SaleType  SaleCondition SalePrice\n",
              "0   1          60       RL  ...        WD         Normal    208500\n",
              "1   2          20       RL  ...        WD         Normal    181500\n",
              "2   3          60       RL  ...        WD         Normal    223500\n",
              "3   4          70       RL  ...        WD        Abnorml    140000\n",
              "4   5          60       RL  ...        WD         Normal    250000\n",
              "\n",
              "[5 rows x 81 columns]"
            ]
          },
          "metadata": {
            "tags": []
          },
          "execution_count": 6
        }
      ]
    },
    {
      "cell_type": "markdown",
      "metadata": {
        "id": "JSPxP76NUSjF"
      },
      "source": [
        "### Nesta análise, estamos interessados em predizer o preço de venda de uma casa em Ames, Iowa. Essa informação pode ser encontrada na coluna SalePrice do nosso DataFrame. Os dados nos quais estamos interessados são comumente chamados de 'target'. Usarei essa nomenclatura adiante para facilitar a compreensão. \n",
        "\n",
        "###Primeiramente é interessante plotarmos algumas informações para a análise exploratória. Portanto, começarei minha análise com a distribuição dos preços dos imóveis."
      ]
    },
    {
      "cell_type": "code",
      "metadata": {
        "id": "DJZBMb7_P3yd"
      },
      "source": [
        "#Para isso usarei a biblioteca matplotlib e a biblioteca seaborn\n",
        "\n",
        "import matplotlib.pyplot as plt\n",
        "import seaborn as sns"
      ],
      "execution_count": null,
      "outputs": []
    },
    {
      "cell_type": "code",
      "metadata": {
        "colab": {
          "base_uri": "https://localhost:8080/",
          "height": 405
        },
        "id": "eHxoVu8VRknn",
        "outputId": "92123520-78dc-4176-c635-97b0f9344ffe"
      },
      "source": [
        "sns.set_style(\"whitegrid\") #Para carregar o estilo de gráfico desejado no Seaborn\n",
        "plt.figure(figsize=(25, 6)) #Como redimensionar o tamanho da figura\n",
        "\n",
        "ax = sns.boxplot(x='SalePrice', data=train) #Criando o gráfico boxplot\n",
        "\n",
        "ax.set_title('Distribuição de Preços dos Imóveis') #Título do Gráfico\n",
        "ax.set_xlabel(\"Preço do Imóvel\")\n",
        "ax.set_xticks(np.arange(0, 755000, 30000)) ##Step dos valores X no Gráfico\n",
        "ax.grid(True)\n",
        "plt.show()  "
      ],
      "execution_count": null,
      "outputs": [
        {
          "output_type": "display_data",
          "data": {
            "image/png": "[encoded data removed]",
            "text/plain": [
              "<Figure size 1800x432 with 1 Axes>"
            ]
          },
          "metadata": {
            "tags": []
          }
        }
      ]
    },
    {
      "cell_type": "code",
      "metadata": {
        "colab": {
          "base_uri": "https://localhost:8080/"
        },
        "id": "GRyZBhJbQINY",
        "outputId": "d86358bb-7fc9-49d7-e619-5fa456151144"
      },
      "source": [
        "#Usaremos a função Series.describe() para descobrirmos mais informações dos dados que queremos predizer (preços)\n",
        "\n",
        "train.SalePrice.describe()"
      ],
      "execution_count": null,
      "outputs": [
        {
          "output_type": "execute_result",
          "data": {
            "text/plain": [
              "count      1460.000000\n",
              "mean     180921.195890\n",
              "std       79442.502883\n",
              "min       34900.000000\n",
              "25%      129975.000000\n",
              "50%      163000.000000\n",
              "75%      214000.000000\n",
              "max      755000.000000\n",
              "Name: SalePrice, dtype: float64"
            ]
          },
          "metadata": {
            "tags": []
          },
          "execution_count": 9
        }
      ]
    },
    {
      "cell_type": "markdown",
      "metadata": {
        "id": "yOA3snWNQdzV"
      },
      "source": [
        "####Através dados acima, podemos perceber que a média dos valores das casas é de $180.000.\n",
        "\n",
        "####Enquanto que a faixa de valores das casas gira entorno do intervalo $130.000 - $215.000 (com exceção dos outliers)"
      ]
    },
    {
      "cell_type": "markdown",
      "metadata": {
        "id": "HLec9kZZfEOt"
      },
      "source": [
        "###Outra informação importante que devemos analisar é se o Target está deslocado ao longo da distribuição de valores (em inglês skewed).\n",
        "\n",
        "###Isto é importante pois caso os dados estejam mal distribuídos, realizar uma transformação log ajudará na performance quando fizermos a regressão."
      ]
    },
    {
      "cell_type": "code",
      "metadata": {
        "colab": {
          "base_uri": "https://localhost:8080/",
          "height": 265
        },
        "id": "_p9p7WxTiimm",
        "outputId": "f71e2efe-0f67-449f-96fc-9278d23611ff"
      },
      "source": [
        "plt.hist(train.SalePrice, color='blue')\n",
        "plt.show()"
      ],
      "execution_count": null,
      "outputs": [
        {
          "output_type": "display_data",
          "data": {
            "image/png": "[encoded data removed]",
            "text/plain": [
              "<Figure size 432x288 with 1 Axes>"
            ]
          },
          "metadata": {
            "tags": []
          }
        }
      ]
    },
    {
      "cell_type": "code",
      "metadata": {
        "colab": {
          "base_uri": "https://localhost:8080/"
        },
        "id": "Un4mnfTrit94",
        "outputId": "d2290c39-c1b3-4a19-a905-a1b97665ad48"
      },
      "source": [
        "print (\"Deslocamento é de:\", train.SalePrice.skew())"
      ],
      "execution_count": null,
      "outputs": [
        {
          "output_type": "stream",
          "text": [
            "Deslocamento é de: 1.8828757597682129\n"
          ],
          "name": "stdout"
        }
      ]
    },
    {
      "cell_type": "markdown",
      "metadata": {
        "id": "QaPnWgyojcDL"
      },
      "source": [
        "####Aqui percebemos que existe um deslocamento dos dados a direita. Quanto mais próximo de 0 o valor da função skew for, melhor uniformemente distribuido estarão os dados. Em seguida irei aplicar uma transformação log no target e reanalisarei o deslocamento"
      ]
    },
    {
      "cell_type": "code",
      "metadata": {
        "id": "XNj89xRcj3XO",
        "colab": {
          "base_uri": "https://localhost:8080/",
          "height": 265
        },
        "outputId": "d67c488a-92b6-466c-f1c7-c0789ef81acb"
      },
      "source": [
        "target = np.log(train.SalePrice)\n",
        "plt.hist(target, color='blue')\n",
        "plt.show()"
      ],
      "execution_count": null,
      "outputs": [
        {
          "output_type": "display_data",
          "data": {
            "image/png": "[encoded data removed]",
            "text/plain": [
              "<Figure size 432x288 with 1 Axes>"
            ]
          },
          "metadata": {
            "tags": []
          }
        }
      ]
    },
    {
      "cell_type": "code",
      "metadata": {
        "id": "NBsAFbNckEYh",
        "colab": {
          "base_uri": "https://localhost:8080/"
        },
        "outputId": "be9bcc5c-1a6d-417d-b79e-7bdd053b7078"
      },
      "source": [
        "print(\"Deslocamento é de:\", target.skew())"
      ],
      "execution_count": null,
      "outputs": [
        {
          "output_type": "stream",
          "text": [
            "Deslocamento é de: 0.12133506220520406\n"
          ],
          "name": "stdout"
        }
      ]
    },
    {
      "cell_type": "markdown",
      "metadata": {
        "id": "h2N398BxqCrr"
      },
      "source": [
        "##Trabalhando com os Dados"
      ]
    },
    {
      "cell_type": "markdown",
      "metadata": {
        "id": "_0p65BHiqQZi"
      },
      "source": [
        "###Dados Numéricos"
      ]
    },
    {
      "cell_type": "code",
      "metadata": {
        "id": "qdOZF9G5qGLA"
      },
      "source": [
        "#Aqui seleciono somente as colunas numéricas do DataFrame\n",
        "numeric_data = train.select_dtypes(include=[np.number])"
      ],
      "execution_count": null,
      "outputs": []
    },
    {
      "cell_type": "markdown",
      "metadata": {
        "id": "fZnN3Wt7rOnM"
      },
      "source": [
        "####Já que estou analisando somente as features numéricas, uma função interessante de ser utilizada é a DataFrame.corr(). Esta função mostra a correlação entre as colunas de dados, assim podemos examinar a correlação entre as features e o target."
      ]
    },
    {
      "cell_type": "code",
      "metadata": {
        "colab": {
          "base_uri": "https://localhost:8080/"
        },
        "id": "nGCUj3GxrnXp",
        "outputId": "67078bda-7c22-4f71-e5db-125331578f8a"
      },
      "source": [
        "corr = numeric_data.corr()\n",
        "print(corr['SalePrice'].sort_values(ascending=False)[:5], '\\n')\n",
        "print(corr['SalePrice'].sort_values(ascending=False)[-5:])"
      ],
      "execution_count": null,
      "outputs": [
        {
          "output_type": "stream",
          "text": [
            "SalePrice      1.000000\n",
            "OverallQual    0.790982\n",
            "GrLivArea      0.708624\n",
            "GarageCars     0.640409\n",
            "GarageArea     0.623431\n",
            "Name: SalePrice, dtype: float64 \n",
            "\n",
            "YrSold          -0.028923\n",
            "OverallCond     -0.077856\n",
            "MSSubClass      -0.084284\n",
            "EnclosedPorch   -0.128578\n",
            "KitchenAbvGr    -0.135907\n",
            "Name: SalePrice, dtype: float64\n"
          ],
          "name": "stdout"
        }
      ]
    },
    {
      "cell_type": "markdown",
      "metadata": {
        "id": "D7OgqJ8xsbOf"
      },
      "source": [
        "Enquanto as 5 primeiras colunas apresentam uma correlação mais positiva, as últimas 5 apresentam correlação negativa. \n",
        "\n",
        "Irei analisar mais profundamente a coluna \"OverallQual\", coluna que a apresenta maior valor de correlação (em módulo) com nosso objetivo."
      ]
    },
    {
      "cell_type": "code",
      "metadata": {
        "colab": {
          "base_uri": "https://localhost:8080/"
        },
        "id": "t0ZccdSpUUwt",
        "outputId": "e8d244c9-6b84-4454-ca07-f83d8059dce9"
      },
      "source": [
        "#Qual o tipo de dado da coluna \"OverallQual\"?\n",
        "train.OverallQual.unique()"
      ],
      "execution_count": null,
      "outputs": [
        {
          "output_type": "execute_result",
          "data": {
            "text/plain": [
              "array([ 7,  6,  8,  5,  9,  4, 10,  3,  1,  2])"
            ]
          },
          "metadata": {
            "tags": []
          },
          "execution_count": 16
        }
      ]
    },
    {
      "cell_type": "markdown",
      "metadata": {
        "id": "akajt1smVB9E"
      },
      "source": [
        "Usarei uma [Tabela Pivo](https://https://en.wikipedia.org/wiki/Pivot_table) - ou do inglês Pivot Table - para investigar melhor o relacionamento entre as colunas. Olharei para a média na análise a seguir."
      ]
    },
    {
      "cell_type": "code",
      "metadata": {
        "colab": {
          "base_uri": "https://localhost:8080/"
        },
        "id": "U7m2QAPjU4Fu",
        "outputId": "8fbfca35-1620-4c25-e318-77020fa8f5a2"
      },
      "source": [
        "quality_pivot = train.pivot_table(index='OverallQual', values='SalePrice', aggfunc=np.median)\n",
        "print(quality_pivot)"
      ],
      "execution_count": null,
      "outputs": [
        {
          "output_type": "stream",
          "text": [
            "             SalePrice\n",
            "OverallQual           \n",
            "1                50150\n",
            "2                60000\n",
            "3                86250\n",
            "4               108000\n",
            "5               133000\n",
            "6               160000\n",
            "7               200141\n",
            "8               269750\n",
            "9               345000\n",
            "10              432390\n"
          ],
          "name": "stdout"
        }
      ]
    },
    {
      "cell_type": "code",
      "metadata": {
        "colab": {
          "base_uri": "https://localhost:8080/",
          "height": 296
        },
        "id": "6MyCVgp6Zzw8",
        "outputId": "70933bf3-efed-469d-bded-b8e521fe2cfd"
      },
      "source": [
        "plt.figure(figsize=(20, 15)) #Redimensionar o tamanho da figura\n",
        "\n",
        "ax = quality_pivot.plot(kind='bar', color='blue')\n",
        "\n",
        "ax.set_xlabel(\"Overall Quality\")\n",
        "ax.set_ylabel(\"Média dos Preços de Venda\")\n",
        "\n",
        "plt.xticks(rotation=0) #Rotaciono as labels do eixo X, pois elas estavam de lado\n",
        "\n",
        "plt.show()"
      ],
      "execution_count": null,
      "outputs": [
        {
          "output_type": "display_data",
          "data": {
            "text/plain": [
              "<Figure size 1440x1080 with 0 Axes>"
            ]
          },
          "metadata": {
            "tags": []
          }
        },
        {
          "output_type": "display_data",
          "data": {
            "image/png": "[encoded data removed]",
            "text/plain": [
              "<Figure size 432x288 with 1 Axes>"
            ]
          },
          "metadata": {
            "tags": []
          }
        }
      ]
    },
    {
      "cell_type": "markdown",
      "metadata": {
        "id": "f9dkicOCpb3H"
      },
      "source": [
        "####CONCLUSÃO: Com o gráfico acima, podemos perceber que os preços aumentam a medida que o índice de qualidade geral também aumenta.\n",
        "\n",
        "####A próxima coluna de dados que irei analisar é a \"GrLivArea\", que é a segunda coluna com maior índice de correlação em módulo. Irei usar o gráfico do tipo scatter para visualizar a relação entre GrLivArea e nosso target - SalePrice"
      ]
    },
    {
      "cell_type": "code",
      "metadata": {
        "colab": {
          "base_uri": "https://localhost:8080/",
          "height": 281
        },
        "id": "LKXzsNULqoLb",
        "outputId": "1c0182b4-4d1f-4b64-ee3d-7b753243c44b"
      },
      "source": [
        "plt.scatter(x=train['GrLivArea'], y=target, color='orange')\n",
        "plt.xlabel(\"Área acima do nível do solo (em pés quadrados)\")\n",
        "plt.ylabel(\"Preço de venda do imóvel\")\n",
        "\n",
        "plt.show()"
      ],
      "execution_count": null,
      "outputs": [
        {
          "output_type": "display_data",
          "data": {
            "image/png": "[encoded data removed]",
            "text/plain": [
              "<Figure size 432x288 with 1 Axes>"
            ]
          },
          "metadata": {
            "tags": []
          }
        }
      ]
    },
    {
      "cell_type": "markdown",
      "metadata": {
        "id": "sIB1UdectMBo"
      },
      "source": [
        "####Em seguida irei analisar a coluna de dados \"GarageArea\", que é a terceira coluna com maior índice de correlação em módulo. Também irei usar o gráfico do tipo scatter para visualizar a relação entre GarageArea e o SalePrice"
      ]
    },
    {
      "cell_type": "code",
      "metadata": {
        "colab": {
          "base_uri": "https://localhost:8080/",
          "height": 281
        },
        "id": "n7cvT7gUYW-c",
        "outputId": "86196cac-8db3-428c-a867-ed218bfb2efe"
      },
      "source": [
        "plt.scatter(x=train['GarageArea'], y=target, color='orange')\n",
        "plt.xlabel(\"Área de garagem\")\n",
        "plt.ylabel(\"Preço de venda do imóvel\")\n",
        "\n",
        "plt.show()"
      ],
      "execution_count": null,
      "outputs": [
        {
          "output_type": "display_data",
          "data": {
            "image/png": "[encoded data removed]",
            "text/plain": [
              "<Figure size 432x288 with 1 Axes>"
            ]
          },
          "metadata": {
            "tags": []
          }
        }
      ]
    },
    {
      "cell_type": "markdown",
      "metadata": {
        "id": "4oEfNGnCv4sd"
      },
      "source": [
        "####Do gráfico, percebemos duas importantes informações: existem algumas casas sem garagem (representadas no gráfico pelos pontos onde y=0) e também existem [outliers](https://https://en.wikipedia.org/wiki/Outlier) - pontos que diferem significativamente dos outros observados - neste conjunto de dados.\n",
        "\n",
        "####Irei tratar dos dados nulos futuramente. Por agora irei apenas remover alguns dos pontos que diferem do comportamento observado no gráfico. "
      ]
    },
    {
      "cell_type": "code",
      "metadata": {
        "id": "_NIrwO7qt47Z"
      },
      "source": [
        "train = train[train['GarageArea'] < 1200]\n",
        "\n",
        "#outliers = (train['GarageArea'] == 0)\n",
        "#print(\"Número de imóveis que não possuem garagem:\", outliers.value_counts(normalize=True) )\n"
      ],
      "execution_count": null,
      "outputs": []
    },
    {
      "cell_type": "code",
      "metadata": {
        "colab": {
          "base_uri": "https://localhost:8080/",
          "height": 281
        },
        "id": "zbnPzI_MxN4c",
        "outputId": "c92b91df-4b13-4af3-8da0-2ba524e4747d"
      },
      "source": [
        "plt.scatter(x=train['GarageArea'], y=np.log(train.SalePrice), color='orange')\n",
        "\n",
        "#Um detalhe importante é que se simplesmente printarmos o gráfico da forma original, não iremos conseguir perceber os pontos removidos facilmente. \n",
        "#Já que alteramos as dimensões do conjunto de dados, o gráfico é redimensionado automaticamente.\n",
        "#Para \"forçarmos\" a escala antiga e facilitarmos a visualização, irei utilizar o comando limit abaixo.\n",
        "\n",
        "plt.xlim(-200,1600)\n",
        "\n",
        "plt.xlabel(\"Área da garagem\")\n",
        "plt.ylabel(\"Preço de venda do imóvel\")\n",
        "\n",
        "plt.show()"
      ],
      "execution_count": null,
      "outputs": [
        {
          "output_type": "display_data",
          "data": {
            "image/png": "[encoded data removed]",
            "text/plain": [
              "<Figure size 432x288 with 1 Axes>"
            ]
          },
          "metadata": {
            "tags": []
          }
        }
      ]
    },
    {
      "cell_type": "markdown",
      "metadata": {
        "id": "OkD9FRjt0AIN"
      },
      "source": [
        "###Tratando os Dados Nulos"
      ]
    },
    {
      "cell_type": "markdown",
      "metadata": {
        "id": "qr45jLca0JH9"
      },
      "source": [
        "####Por agora examinaremos os dados nulos do conjunto numérico. Utilizarei a sequencia train.isnull.sum(), a qual me retornará um DataFrame com o número de valores nulos de cada feature"
      ]
    },
    {
      "cell_type": "code",
      "metadata": {
        "colab": {
          "base_uri": "https://localhost:8080/"
        },
        "id": "wvnGeZQx0I7_",
        "outputId": "b7d83f97-ad3f-46dd-b1d0-77662fb24b1e"
      },
      "source": [
        "nulls = train.isnull().sum().sort_values(ascending=False)[:25]\n",
        "\n",
        "numIndex = nulls.index\n",
        "numValues = nulls.values\n",
        "\n",
        "nulls = pd.DataFrame(data=numValues, index=numIndex, columns=['Null Count'])\n",
        "\n",
        "nulls.index.name = 'Feature'\n",
        "\n",
        "print(nulls)"
      ],
      "execution_count": null,
      "outputs": [
        {
          "output_type": "stream",
          "text": [
            "              Null Count\n",
            "Feature                 \n",
            "PoolQC              1449\n",
            "MiscFeature         1402\n",
            "Alley               1364\n",
            "Fence               1174\n",
            "FireplaceQu          689\n",
            "LotFrontage          258\n",
            "GarageCond            81\n",
            "GarageType            81\n",
            "GarageYrBlt           81\n",
            "GarageFinish          81\n",
            "GarageQual            81\n",
            "BsmtExposure          38\n",
            "BsmtFinType2          38\n",
            "BsmtFinType1          37\n",
            "BsmtCond              37\n",
            "BsmtQual              37\n",
            "MasVnrArea             8\n",
            "MasVnrType             8\n",
            "Electrical             1\n",
            "Utilities              0\n",
            "YearRemodAdd           0\n",
            "MSSubClass             0\n",
            "Foundation             0\n",
            "ExterCond              0\n",
            "ExterQual              0\n"
          ],
          "name": "stdout"
        }
      ]
    },
    {
      "cell_type": "markdown",
      "metadata": {
        "id": "hEIvbNARD_A7"
      },
      "source": [
        "####Através da documentação dos dados, entendemos que tanto para o caso da coluna 'PoolQC' quanto para as colunas relacionadas a garagem, os valores são *Nan* para o caso da área correspondente ser *0* ou então inexistente."
      ]
    },
    {
      "cell_type": "markdown",
      "metadata": {
        "id": "NDdm3m-5HHZ1"
      },
      "source": [
        "####Analisaremos também a coluna de dados 'MiscFeature'. "
      ]
    },
    {
      "cell_type": "code",
      "metadata": {
        "colab": {
          "base_uri": "https://localhost:8080/"
        },
        "id": "DyedQ3X1Hmkt",
        "outputId": "53ac4664-8685-4443-beac-e0d7cd1f50a8"
      },
      "source": [
        "print(\"Os valores desta coluna são:\", train.MiscFeature.unique())"
      ],
      "execution_count": null,
      "outputs": [
        {
          "output_type": "stream",
          "text": [
            "Os valores desta coluna são: [nan 'Shed' 'Gar2' 'Othr' 'TenC']\n"
          ],
          "name": "stdout"
        }
      ]
    },
    {
      "cell_type": "markdown",
      "metadata": {
        "id": "mdrsIrSfH1q5"
      },
      "source": [
        "####Ao olharmos a documentação dos dados, esta coluna é descrita como abaixo.\n",
        "\n",
        "```\n",
        "MiscFeature: Miscellaneous feature not covered in other categories\n",
        "\n",
        "   Elev Elevator\n",
        "   Gar2 2nd Garage (if not described in garage section)\n",
        "   Othr Other\n",
        "   Shed Shed (over 100 SF)\n",
        "   TenC Tennis Court\n",
        "   NA   None\n",
        "```\n",
        "####Os valores descrevem se a casa tem mais de 100 pés quadrados, se tem uma segunda garagem, se tem quadra de tênis etc. \n",
        "\n",
        "####Nós talvez possamos usar essas informações futuramente"
      ]
    },
    {
      "cell_type": "markdown",
      "metadata": {
        "id": "5jYKUpQaITSs"
      },
      "source": [
        "###Lidando com os dados não númericos"
      ]
    },
    {
      "cell_type": "code",
      "metadata": {
        "colab": {
          "base_uri": "https://localhost:8080/",
          "height": 193
        },
        "id": "kd9kLswrgVMf",
        "outputId": "3b1f768f-eba7-4b03-fbe9-ff0a479bb9af"
      },
      "source": [
        "categoricals = train.select_dtypes(exclude=[np.number])\n",
        "categoricals.describe()"
      ],
      "execution_count": null,
      "outputs": [
        {
          "output_type": "execute_result",
          "data": {
            "text/html": [
              "<div>\n",
              "<style scoped>\n",
              "    .dataframe tbody tr th:only-of-type {\n",
              "        vertical-align: middle;\n",
              "    }\n",
              "\n",
              "    .dataframe tbody tr th {\n",
              "        vertical-align: top;\n",
              "    }\n",
              "\n",
              "    .dataframe thead th {\n",
              "        text-align: right;\n",
              "    }\n",
              "</style>\n",
              "<table border=\"1\" class=\"dataframe\">\n",
              "  <thead>\n",
              "    <tr style=\"text-align: right;\">\n",
              "      <th></th>\n",
              "      <th>MSZoning</th>\n",
              "      <th>Street</th>\n",
              "      <th>Alley</th>\n",
              "      <th>LotShape</th>\n",
              "      <th>LandContour</th>\n",
              "      <th>Utilities</th>\n",
              "      <th>LotConfig</th>\n",
              "      <th>LandSlope</th>\n",
              "      <th>Neighborhood</th>\n",
              "      <th>Condition1</th>\n",
              "      <th>Condition2</th>\n",
              "      <th>BldgType</th>\n",
              "      <th>HouseStyle</th>\n",
              "      <th>RoofStyle</th>\n",
              "      <th>RoofMatl</th>\n",
              "      <th>Exterior1st</th>\n",
              "      <th>Exterior2nd</th>\n",
              "      <th>MasVnrType</th>\n",
              "      <th>ExterQual</th>\n",
              "      <th>ExterCond</th>\n",
              "      <th>Foundation</th>\n",
              "      <th>BsmtQual</th>\n",
              "      <th>BsmtCond</th>\n",
              "      <th>BsmtExposure</th>\n",
              "      <th>BsmtFinType1</th>\n",
              "      <th>BsmtFinType2</th>\n",
              "      <th>Heating</th>\n",
              "      <th>HeatingQC</th>\n",
              "      <th>CentralAir</th>\n",
              "      <th>Electrical</th>\n",
              "      <th>KitchenQual</th>\n",
              "      <th>Functional</th>\n",
              "      <th>FireplaceQu</th>\n",
              "      <th>GarageType</th>\n",
              "      <th>GarageFinish</th>\n",
              "      <th>GarageQual</th>\n",
              "      <th>GarageCond</th>\n",
              "      <th>PavedDrive</th>\n",
              "      <th>PoolQC</th>\n",
              "      <th>Fence</th>\n",
              "      <th>MiscFeature</th>\n",
              "      <th>SaleType</th>\n",
              "      <th>SaleCondition</th>\n",
              "    </tr>\n",
              "  </thead>\n",
              "  <tbody>\n",
              "    <tr>\n",
              "      <th>count</th>\n",
              "      <td>1455</td>\n",
              "      <td>1455</td>\n",
              "      <td>91</td>\n",
              "      <td>1455</td>\n",
              "      <td>1455</td>\n",
              "      <td>1455</td>\n",
              "      <td>1455</td>\n",
              "      <td>1455</td>\n",
              "      <td>1455</td>\n",
              "      <td>1455</td>\n",
              "      <td>1455</td>\n",
              "      <td>1455</td>\n",
              "      <td>1455</td>\n",
              "      <td>1455</td>\n",
              "      <td>1455</td>\n",
              "      <td>1455</td>\n",
              "      <td>1455</td>\n",
              "      <td>1447</td>\n",
              "      <td>1455</td>\n",
              "      <td>1455</td>\n",
              "      <td>1455</td>\n",
              "      <td>1418</td>\n",
              "      <td>1418</td>\n",
              "      <td>1417</td>\n",
              "      <td>1418</td>\n",
              "      <td>1417</td>\n",
              "      <td>1455</td>\n",
              "      <td>1455</td>\n",
              "      <td>1455</td>\n",
              "      <td>1454</td>\n",
              "      <td>1455</td>\n",
              "      <td>1455</td>\n",
              "      <td>766</td>\n",
              "      <td>1374</td>\n",
              "      <td>1374</td>\n",
              "      <td>1374</td>\n",
              "      <td>1374</td>\n",
              "      <td>1455</td>\n",
              "      <td>6</td>\n",
              "      <td>281</td>\n",
              "      <td>53</td>\n",
              "      <td>1455</td>\n",
              "      <td>1455</td>\n",
              "    </tr>\n",
              "    <tr>\n",
              "      <th>unique</th>\n",
              "      <td>5</td>\n",
              "      <td>2</td>\n",
              "      <td>2</td>\n",
              "      <td>4</td>\n",
              "      <td>4</td>\n",
              "      <td>2</td>\n",
              "      <td>5</td>\n",
              "      <td>3</td>\n",
              "      <td>25</td>\n",
              "      <td>9</td>\n",
              "      <td>8</td>\n",
              "      <td>5</td>\n",
              "      <td>8</td>\n",
              "      <td>6</td>\n",
              "      <td>7</td>\n",
              "      <td>15</td>\n",
              "      <td>16</td>\n",
              "      <td>4</td>\n",
              "      <td>4</td>\n",
              "      <td>5</td>\n",
              "      <td>6</td>\n",
              "      <td>4</td>\n",
              "      <td>4</td>\n",
              "      <td>4</td>\n",
              "      <td>6</td>\n",
              "      <td>6</td>\n",
              "      <td>6</td>\n",
              "      <td>5</td>\n",
              "      <td>2</td>\n",
              "      <td>5</td>\n",
              "      <td>4</td>\n",
              "      <td>7</td>\n",
              "      <td>5</td>\n",
              "      <td>6</td>\n",
              "      <td>3</td>\n",
              "      <td>5</td>\n",
              "      <td>5</td>\n",
              "      <td>3</td>\n",
              "      <td>3</td>\n",
              "      <td>4</td>\n",
              "      <td>4</td>\n",
              "      <td>9</td>\n",
              "      <td>6</td>\n",
              "    </tr>\n",
              "    <tr>\n",
              "      <th>top</th>\n",
              "      <td>RL</td>\n",
              "      <td>Pave</td>\n",
              "      <td>Grvl</td>\n",
              "      <td>Reg</td>\n",
              "      <td>Lvl</td>\n",
              "      <td>AllPub</td>\n",
              "      <td>Inside</td>\n",
              "      <td>Gtl</td>\n",
              "      <td>NAmes</td>\n",
              "      <td>Norm</td>\n",
              "      <td>Norm</td>\n",
              "      <td>1Fam</td>\n",
              "      <td>1Story</td>\n",
              "      <td>Gable</td>\n",
              "      <td>CompShg</td>\n",
              "      <td>VinylSd</td>\n",
              "      <td>VinylSd</td>\n",
              "      <td>None</td>\n",
              "      <td>TA</td>\n",
              "      <td>TA</td>\n",
              "      <td>PConc</td>\n",
              "      <td>TA</td>\n",
              "      <td>TA</td>\n",
              "      <td>No</td>\n",
              "      <td>Unf</td>\n",
              "      <td>Unf</td>\n",
              "      <td>GasA</td>\n",
              "      <td>Ex</td>\n",
              "      <td>Y</td>\n",
              "      <td>SBrkr</td>\n",
              "      <td>TA</td>\n",
              "      <td>Typ</td>\n",
              "      <td>Gd</td>\n",
              "      <td>Attchd</td>\n",
              "      <td>Unf</td>\n",
              "      <td>TA</td>\n",
              "      <td>TA</td>\n",
              "      <td>Y</td>\n",
              "      <td>Gd</td>\n",
              "      <td>MnPrv</td>\n",
              "      <td>Shed</td>\n",
              "      <td>WD</td>\n",
              "      <td>Normal</td>\n",
              "    </tr>\n",
              "    <tr>\n",
              "      <th>freq</th>\n",
              "      <td>1147</td>\n",
              "      <td>1450</td>\n",
              "      <td>50</td>\n",
              "      <td>921</td>\n",
              "      <td>1309</td>\n",
              "      <td>1454</td>\n",
              "      <td>1048</td>\n",
              "      <td>1378</td>\n",
              "      <td>225</td>\n",
              "      <td>1257</td>\n",
              "      <td>1441</td>\n",
              "      <td>1216</td>\n",
              "      <td>722</td>\n",
              "      <td>1139</td>\n",
              "      <td>1430</td>\n",
              "      <td>514</td>\n",
              "      <td>503</td>\n",
              "      <td>863</td>\n",
              "      <td>905</td>\n",
              "      <td>1278</td>\n",
              "      <td>644</td>\n",
              "      <td>647</td>\n",
              "      <td>1306</td>\n",
              "      <td>951</td>\n",
              "      <td>428</td>\n",
              "      <td>1251</td>\n",
              "      <td>1423</td>\n",
              "      <td>737</td>\n",
              "      <td>1360</td>\n",
              "      <td>1329</td>\n",
              "      <td>733</td>\n",
              "      <td>1355</td>\n",
              "      <td>377</td>\n",
              "      <td>867</td>\n",
              "      <td>605</td>\n",
              "      <td>1306</td>\n",
              "      <td>1321</td>\n",
              "      <td>1335</td>\n",
              "      <td>2</td>\n",
              "      <td>157</td>\n",
              "      <td>48</td>\n",
              "      <td>1266</td>\n",
              "      <td>1196</td>\n",
              "    </tr>\n",
              "  </tbody>\n",
              "</table>\n",
              "</div>"
            ],
            "text/plain": [
              "       MSZoning Street Alley LotShape  ...  Fence MiscFeature SaleType SaleCondition\n",
              "count      1455   1455    91     1455  ...    281          53     1455          1455\n",
              "unique        5      2     2        4  ...      4           4        9             6\n",
              "top          RL   Pave  Grvl      Reg  ...  MnPrv        Shed       WD        Normal\n",
              "freq       1147   1450    50      921  ...    157          48     1266          1196\n",
              "\n",
              "[4 rows x 43 columns]"
            ]
          },
          "metadata": {
            "tags": []
          },
          "execution_count": 25
        }
      ]
    },
    {
      "cell_type": "markdown",
      "metadata": {
        "id": "Ayg0edjvgs1X"
      },
      "source": [
        "####Na tabela, a coluna 'count' descreve a contagem de ocorrências não numéricas. 'Unique' representa o número de valores únicos. Já o 'top' são os dados que aparecem com mais frequência, sendo esta frequência apresentada na coluna 'freq'."
      ]
    },
    {
      "cell_type": "markdown",
      "metadata": {
        "id": "kOQhbZq5qaSe"
      },
      "source": [
        "###Transformando os dados"
      ]
    },
    {
      "cell_type": "markdown",
      "metadata": {
        "id": "xZayZ041qfzY"
      },
      "source": [
        "####Primeiro analisarei a coluna 'Street', coluna que possui apenas 2 valores: 'Pave' e 'Grvl'. Esses valores demonstram o tipo de acesso a casa."
      ]
    },
    {
      "cell_type": "code",
      "metadata": {
        "colab": {
          "base_uri": "https://localhost:8080/"
        },
        "id": "VWFcccyiq0fk",
        "outputId": "fcabe3e5-84e4-4b86-a643-e07953ce8807"
      },
      "source": [
        "print(train.Street.value_counts())"
      ],
      "execution_count": null,
      "outputs": [
        {
          "output_type": "stream",
          "text": [
            "Pave    1450\n",
            "Grvl       5\n",
            "Name: Street, dtype: int64\n"
          ],
          "name": "stdout"
        }
      ]
    },
    {
      "cell_type": "markdown",
      "metadata": {
        "id": "rKRTVk0vrVqa"
      },
      "source": [
        "####Nosso modelo precisa de dados numéricos. Logo, podemos transformar essas 2 informações em números. Para isso, usarei o método pd.get_dummies()."
      ]
    },
    {
      "cell_type": "code",
      "metadata": {
        "id": "qKza0x5wr-Uo"
      },
      "source": [
        "train['enc_street'] = pd.get_dummies(train.Street, drop_first=True)\n",
        "test['enc_street'] = pd.get_dummies(train.Street, drop_first=True)"
      ],
      "execution_count": null,
      "outputs": []
    },
    {
      "cell_type": "code",
      "metadata": {
        "colab": {
          "base_uri": "https://localhost:8080/"
        },
        "id": "SdlcN-lIsk-0",
        "outputId": "fecd0e2b-476e-45a1-af9a-71a7537ec763"
      },
      "source": [
        "print(train.enc_street.value_counts())"
      ],
      "execution_count": null,
      "outputs": [
        {
          "output_type": "stream",
          "text": [
            "1    1450\n",
            "0       5\n",
            "Name: enc_street, dtype: int64\n"
          ],
          "name": "stdout"
        }
      ]
    },
    {
      "cell_type": "markdown",
      "metadata": {
        "id": "e451CVyns5rN"
      },
      "source": [
        "####Desta forma, transformamos variáveis categóricas em dados booleanos (os quais servem para nosso futuro modelo). Farei uma análise semelhante com a coluna 'SaleCondition', através de tabela pivot,"
      ]
    },
    {
      "cell_type": "code",
      "metadata": {
        "colab": {
          "base_uri": "https://localhost:8080/",
          "height": 297
        },
        "id": "yUuT3SqMtR2R",
        "outputId": "04d34b57-4aba-4f3a-9301-af874e705ff1"
      },
      "source": [
        "plt.figure(figsize=(10, 8))\n",
        "\n",
        "condition_pivot = train.pivot_table(index='SaleCondition', values='SalePrice', aggfunc=np.median)\n",
        "condition_pivot.plot(kind='bar', color='blue')\n",
        "\n",
        "plt.xlabel('Condição de Venda')\n",
        "plt.ylabel('Preço Médio de Venda')\n",
        "plt.xticks(rotation=0)\n",
        "\n",
        "plt.show()"
      ],
      "execution_count": null,
      "outputs": [
        {
          "output_type": "display_data",
          "data": {
            "text/plain": [
              "<Figure size 720x576 with 0 Axes>"
            ]
          },
          "metadata": {
            "tags": []
          }
        },
        {
          "output_type": "display_data",
          "data": {
            "image/png": "[encoded data removed]",
            "text/plain": [
              "<Figure size 432x288 with 1 Axes>"
            ]
          },
          "metadata": {
            "tags": []
          }
        }
      ]
    },
    {
      "cell_type": "code",
      "metadata": {
        "colab": {
          "base_uri": "https://localhost:8080/"
        },
        "id": "t1m42bzOv2bu",
        "outputId": "745168e9-b6ba-4ff3-8bf4-85181ca5a42d"
      },
      "source": [
        "columms_left = condition_pivot[:5]\n",
        "print(\"Desvio Absoluto - sem a última coluna:\", columms_left.mad())\n",
        "print(\"Desvio Absoluto - com a última coluna:\", condition_pivot.mad())"
      ],
      "execution_count": null,
      "outputs": [
        {
          "output_type": "stream",
          "text": [
            "Desvio Absoluto - sem a última coluna: SalePrice    15623.2\n",
            "dtype: float64\n",
            "Desvio Absoluto - com a última coluna: SalePrice    31328.333333\n",
            "dtype: float64\n"
          ],
          "name": "stdout"
        }
      ]
    },
    {
      "cell_type": "markdown",
      "metadata": {
        "id": "B_cIPMzMxTfe"
      },
      "source": [
        "####Se analisarmos o desvio absoluto dos valores, desconsiderando a ultima coluna - 'Partial', iremos perceber que essa diferença não é tão significativa. O que significa que os valores das 5 colunas a esquerda não se distanciam tanto de uma tendência central.\n",
        "\n",
        "####Logo como 'Partial' é a única coluna que possui média significativamente mais alta, podemos realizar uma transformação da seguinte maneira: 1 para casas que possuem condição de venda igual a partial e 0 para o resto."
      ]
    },
    {
      "cell_type": "code",
      "metadata": {
        "id": "VobX-5jR3NmC"
      },
      "source": [
        "def encode(x):\n",
        "  if x == 'Partial':\n",
        "    return 1\n",
        "  else:\n",
        "    return 0\n",
        "\n",
        "train['enc_condition'] = train.SaleCondition.apply(encode)\n",
        "test['enc_condition'] = test.SaleCondition.apply(encode)"
      ],
      "execution_count": null,
      "outputs": []
    },
    {
      "cell_type": "code",
      "metadata": {
        "colab": {
          "base_uri": "https://localhost:8080/",
          "height": 297
        },
        "id": "aVmNvBwe3yt1",
        "outputId": "2cbc07e6-9e27-40d4-eed8-95aaa288d852"
      },
      "source": [
        "plt.figure(figsize=(10, 8))\n",
        "\n",
        "condition_pivot = train.pivot_table(index='enc_condition', values='SalePrice', aggfunc=np.median)\n",
        "condition_pivot.plot(kind='bar', color='blue')\n",
        "\n",
        "plt.xlabel('Condição de Venda Codificada')\n",
        "plt.ylabel('Preço Médio de Venda')\n",
        "plt.xticks(rotation=0)\n",
        "\n",
        "plt.show()"
      ],
      "execution_count": null,
      "outputs": [
        {
          "output_type": "display_data",
          "data": {
            "text/plain": [
              "<Figure size 720x576 with 0 Axes>"
            ]
          },
          "metadata": {
            "tags": []
          }
        },
        {
          "output_type": "display_data",
          "data": {
            "image/png": "[encoded data removed]",
            "text/plain": [
              "<Figure size 432x288 with 1 Axes>"
            ]
          },
          "metadata": {
            "tags": []
          }
        }
      ]
    },
    {
      "cell_type": "markdown",
      "metadata": {
        "id": "dZZti_Ie4y2_"
      },
      "source": [
        "###Lidando com dados que faltam"
      ]
    },
    {
      "cell_type": "markdown",
      "metadata": {
        "id": "any97bjv48XI"
      },
      "source": [
        "####Antes de criarmos nosso modelo, precisamos lidar de alguma força com informações faltantes em nosso DataFrame. Primeiramente irei analisar quais colunas possuem maior ocorrência de 'missing values' (em porcentagem)."
      ]
    },
    {
      "cell_type": "code",
      "metadata": {
        "id": "lB-iWbgVBLiI",
        "colab": {
          "base_uri": "https://localhost:8080/"
        },
        "outputId": "c23f9258-6839-4bc0-f1ce-7d158c73c253"
      },
      "source": [
        "#Porcentagem de valores ausentes na coluna do dataframe\n",
        "#Excluir colunas com +50% dos dados NULL\n",
        "print(\"\\nVALORES AUSENTES:\")\n",
        "print((train.isnull().sum() / train.shape[0]).sort_values(ascending=False))"
      ],
      "execution_count": null,
      "outputs": [
        {
          "output_type": "stream",
          "text": [
            "\n",
            "VALORES AUSENTES:\n",
            "PoolQC           0.995876\n",
            "MiscFeature      0.963574\n",
            "Alley            0.937457\n",
            "Fence            0.806873\n",
            "FireplaceQu      0.473540\n",
            "LotFrontage      0.177320\n",
            "GarageQual       0.055670\n",
            "GarageCond       0.055670\n",
            "GarageType       0.055670\n",
            "GarageYrBlt      0.055670\n",
            "GarageFinish     0.055670\n",
            "BsmtFinType2     0.026117\n",
            "BsmtExposure     0.026117\n",
            "BsmtQual         0.025430\n",
            "BsmtCond         0.025430\n",
            "BsmtFinType1     0.025430\n",
            "MasVnrArea       0.005498\n",
            "MasVnrType       0.005498\n",
            "Electrical       0.000687\n",
            "RoofMatl         0.000000\n",
            "RoofStyle        0.000000\n",
            "ExterQual        0.000000\n",
            "Exterior1st      0.000000\n",
            "Exterior2nd      0.000000\n",
            "YearBuilt        0.000000\n",
            "ExterCond        0.000000\n",
            "Foundation       0.000000\n",
            "YearRemodAdd     0.000000\n",
            "enc_condition    0.000000\n",
            "OverallCond      0.000000\n",
            "Utilities        0.000000\n",
            "MSSubClass       0.000000\n",
            "MSZoning         0.000000\n",
            "LotArea          0.000000\n",
            "Street           0.000000\n",
            "LotShape         0.000000\n",
            "LandContour      0.000000\n",
            "LotConfig        0.000000\n",
            "OverallQual      0.000000\n",
            "LandSlope        0.000000\n",
            "Neighborhood     0.000000\n",
            "Condition1       0.000000\n",
            "Condition2       0.000000\n",
            "BldgType         0.000000\n",
            "HouseStyle       0.000000\n",
            "BsmtFinSF1       0.000000\n",
            "CentralAir       0.000000\n",
            "BsmtFinSF2       0.000000\n",
            "BsmtUnfSF        0.000000\n",
            "GarageCars       0.000000\n",
            "GarageArea       0.000000\n",
            "PavedDrive       0.000000\n",
            "WoodDeckSF       0.000000\n",
            "OpenPorchSF      0.000000\n",
            "EnclosedPorch    0.000000\n",
            "3SsnPorch        0.000000\n",
            "ScreenPorch      0.000000\n",
            "PoolArea         0.000000\n",
            "MiscVal          0.000000\n",
            "MoSold           0.000000\n",
            "YrSold           0.000000\n",
            "SaleType         0.000000\n",
            "SaleCondition    0.000000\n",
            "SalePrice        0.000000\n",
            "Fireplaces       0.000000\n",
            "Functional       0.000000\n",
            "TotRmsAbvGrd     0.000000\n",
            "LowQualFinSF     0.000000\n",
            "TotalBsmtSF      0.000000\n",
            "Heating          0.000000\n",
            "HeatingQC        0.000000\n",
            "enc_street       0.000000\n",
            "1stFlrSF         0.000000\n",
            "2ndFlrSF         0.000000\n",
            "GrLivArea        0.000000\n",
            "KitchenQual      0.000000\n",
            "BsmtFullBath     0.000000\n",
            "BsmtHalfBath     0.000000\n",
            "FullBath         0.000000\n",
            "HalfBath         0.000000\n",
            "BedroomAbvGr     0.000000\n",
            "KitchenAbvGr     0.000000\n",
            "Id               0.000000\n",
            "dtype: float64\n"
          ],
          "name": "stdout"
        }
      ]
    },
    {
      "cell_type": "markdown",
      "metadata": {
        "id": "E0D_Yhkc6FLA"
      },
      "source": [
        "####Do conjunto acima, iremos descartar colunas que possuem 'Missing Values' acima ou próximo de 50% do total de seus dados. Também irei lidar com os 'Missing Values' através da função Imputer do sklearn."
      ]
    },
    {
      "cell_type": "code",
      "metadata": {
        "id": "qi8L386GGeP5",
        "colab": {
          "base_uri": "https://localhost:8080/"
        },
        "outputId": "19e190e6-ecad-492f-bb6d-cd71baba56c2"
      },
      "source": [
        "from sklearn.impute import SimpleImputer\n",
        "\n",
        "#Preparação dos Dados\n",
        "\n",
        "#Todas as mudanças feitas no conjunto Train devem ser feitas no conjunto Test também.\n",
        "\n",
        "train_cleanedData = train.copy()\n",
        "test_cleanedData = test.copy()\n",
        "\n",
        "# descartar as colunas Id, PoolQC, MiscFeature, Alley, Fence, FireplaceQu, e nosso target SalePrice\n",
        "#Aqui tbm retiro o target pois usarei isto para criar o novo train e test posteriormente. Nosso target será obtido através de np.lop(train.SalePrice)  \n",
        "train_cleanedData.drop(labels=['Id', 'PoolQC',\n",
        "                      'MiscFeature', 'Alley',\n",
        "                      'Fence', 'FireplaceQu', 'SalePrice'], axis=1, inplace=True)\n",
        "\n",
        "test_cleanedData.drop(labels=['Id', 'PoolQC',\n",
        "                      'MiscFeature', 'Alley',\n",
        "                      'Fence', 'FireplaceQu'], axis=1, inplace=True)\n",
        "\n",
        "# Valores nulos ao longo das categorias\n",
        "numNullbefore = train_cleanedData.isnull().sum()\n",
        "numNullbefore = numNullbefore[ numNullbefore > 0].notnull().sum()\n",
        "print(\"Número de colunas com nulos antes da preparação:\", numNullbefore)\n",
        "\n",
        "#Obtendo as colunas numéricas e as categoricas\n",
        "num_df = train_cleanedData.select_dtypes(exclude='object').columns\n",
        "cat_df = train_cleanedData.select_dtypes(include='object').columns\n",
        "\n",
        "num_dfTest = test_cleanedData.select_dtypes(exclude='object').columns\n",
        "cat_dfTest = test_cleanedData.select_dtypes(include='object').columns\n",
        "\n",
        "#Limpando valores nulos nas variáveis numéricas\n",
        "imputer = SimpleImputer(missing_values=np.nan, strategy='median')\n",
        "\n",
        "  #Limpando o train\n",
        "\n",
        "imputer = imputer.fit(train_cleanedData.loc[:,num_df])\n",
        "train_cleanedData.loc[:,num_df] = imputer.transform(train_cleanedData.loc[:,num_df])\n",
        "\n",
        "  #Limpando o test\n",
        "\n",
        "imputer = imputer.fit(test_cleanedData.loc[:,num_dfTest])\n",
        "test_cleanedData.loc[:,num_dfTest] = imputer.transform(test_cleanedData.loc[:,num_dfTest])\n",
        "\n",
        "#Limpando valores nulos nas variáveis categoricas\n",
        "imputer = SimpleImputer(missing_values=np.nan, strategy='most_frequent')\n",
        "\n",
        "  #Limpando o train\n",
        "\n",
        "imputer = imputer.fit(train_cleanedData.loc[:,cat_df])\n",
        "train_cleanedData.loc[:,cat_df] = imputer.transform(train_cleanedData.loc[:,cat_df])\n",
        "\n",
        "  #Limpando o test\n",
        "\n",
        "imputer = imputer.fit(test_cleanedData.loc[:,cat_dfTest])\n",
        "test_cleanedData.loc[:,cat_dfTest] = imputer.transform(test_cleanedData.loc[:,cat_dfTest])\n",
        "\n",
        "# Valores nulos ao longo das categorias\n",
        "numNullafter = train_cleanedData.isnull().sum()\n",
        "numNullafter = numNullafter[ numNullafter > 0].notnull().sum()\n",
        "print(\"Número de colunas com nulos depois da preparação:\", numNullafter)\n"
      ],
      "execution_count": null,
      "outputs": [
        {
          "output_type": "stream",
          "text": [
            "Número de colunas com nulos antes da preparação: 14\n",
            "Número de colunas com nulos depois da preparação: 0\n"
          ],
          "name": "stdout"
        }
      ]
    },
    {
      "cell_type": "markdown",
      "metadata": {
        "id": "OoYdvYsHqzHe"
      },
      "source": [
        "###Criando o modelo de predição de preços"
      ]
    },
    {
      "cell_type": "markdown",
      "metadata": {
        "id": "SV49xK_-q5F0"
      },
      "source": [
        "####Vamos por fim criar nosso modelo de predição de preços. Para isso iremos separar as features desejadas e o nosso 'Target' - Alvo, respectivamente em x e y. Usarei os preços na escala logaritmica, como explicado na análise acima."
      ]
    },
    {
      "cell_type": "code",
      "metadata": {
        "id": "rjfs_GSyLD0A"
      },
      "source": [
        "y = np.log(train.SalePrice)\n",
        "X = train_cleanedData.select_dtypes(include=[np.number])\n",
        "#Usaremos somente as colunas numéricas e as colunas que foram codificadas para números. O restante dos dados será descartado\n",
        "#Peguei o DataFrame train_cleanedData pois nele já fizemos a limpeza dos dados faltantes e retiramos também o target."
      ],
      "execution_count": null,
      "outputs": []
    },
    {
      "cell_type": "code",
      "metadata": {
        "colab": {
          "base_uri": "https://localhost:8080/",
          "height": 224
        },
        "id": "TWIrYbARuTJN",
        "outputId": "8396a5c3-ed95-4e88-e1dc-7950f5af5622"
      },
      "source": [
        "X.head()"
      ],
      "execution_count": null,
      "outputs": [
        {
          "output_type": "execute_result",
          "data": {
            "text/html": [
              "<div>\n",
              "<style scoped>\n",
              "    .dataframe tbody tr th:only-of-type {\n",
              "        vertical-align: middle;\n",
              "    }\n",
              "\n",
              "    .dataframe tbody tr th {\n",
              "        vertical-align: top;\n",
              "    }\n",
              "\n",
              "    .dataframe thead th {\n",
              "        text-align: right;\n",
              "    }\n",
              "</style>\n",
              "<table border=\"1\" class=\"dataframe\">\n",
              "  <thead>\n",
              "    <tr style=\"text-align: right;\">\n",
              "      <th></th>\n",
              "      <th>MSSubClass</th>\n",
              "      <th>LotFrontage</th>\n",
              "      <th>LotArea</th>\n",
              "      <th>OverallQual</th>\n",
              "      <th>OverallCond</th>\n",
              "      <th>YearBuilt</th>\n",
              "      <th>YearRemodAdd</th>\n",
              "      <th>MasVnrArea</th>\n",
              "      <th>BsmtFinSF1</th>\n",
              "      <th>BsmtFinSF2</th>\n",
              "      <th>BsmtUnfSF</th>\n",
              "      <th>TotalBsmtSF</th>\n",
              "      <th>1stFlrSF</th>\n",
              "      <th>2ndFlrSF</th>\n",
              "      <th>LowQualFinSF</th>\n",
              "      <th>GrLivArea</th>\n",
              "      <th>BsmtFullBath</th>\n",
              "      <th>BsmtHalfBath</th>\n",
              "      <th>FullBath</th>\n",
              "      <th>HalfBath</th>\n",
              "      <th>BedroomAbvGr</th>\n",
              "      <th>KitchenAbvGr</th>\n",
              "      <th>TotRmsAbvGrd</th>\n",
              "      <th>Fireplaces</th>\n",
              "      <th>GarageYrBlt</th>\n",
              "      <th>GarageCars</th>\n",
              "      <th>GarageArea</th>\n",
              "      <th>WoodDeckSF</th>\n",
              "      <th>OpenPorchSF</th>\n",
              "      <th>EnclosedPorch</th>\n",
              "      <th>3SsnPorch</th>\n",
              "      <th>ScreenPorch</th>\n",
              "      <th>PoolArea</th>\n",
              "      <th>MiscVal</th>\n",
              "      <th>MoSold</th>\n",
              "      <th>YrSold</th>\n",
              "      <th>enc_street</th>\n",
              "      <th>enc_condition</th>\n",
              "    </tr>\n",
              "  </thead>\n",
              "  <tbody>\n",
              "    <tr>\n",
              "      <th>0</th>\n",
              "      <td>60.0</td>\n",
              "      <td>65.0</td>\n",
              "      <td>8450.0</td>\n",
              "      <td>7.0</td>\n",
              "      <td>5.0</td>\n",
              "      <td>2003.0</td>\n",
              "      <td>2003.0</td>\n",
              "      <td>196.0</td>\n",
              "      <td>706.0</td>\n",
              "      <td>0.0</td>\n",
              "      <td>150.0</td>\n",
              "      <td>856.0</td>\n",
              "      <td>856.0</td>\n",
              "      <td>854.0</td>\n",
              "      <td>0.0</td>\n",
              "      <td>1710.0</td>\n",
              "      <td>1.0</td>\n",
              "      <td>0.0</td>\n",
              "      <td>2.0</td>\n",
              "      <td>1.0</td>\n",
              "      <td>3.0</td>\n",
              "      <td>1.0</td>\n",
              "      <td>8.0</td>\n",
              "      <td>0.0</td>\n",
              "      <td>2003.0</td>\n",
              "      <td>2.0</td>\n",
              "      <td>548.0</td>\n",
              "      <td>0.0</td>\n",
              "      <td>61.0</td>\n",
              "      <td>0.0</td>\n",
              "      <td>0.0</td>\n",
              "      <td>0.0</td>\n",
              "      <td>0.0</td>\n",
              "      <td>0.0</td>\n",
              "      <td>2.0</td>\n",
              "      <td>2008.0</td>\n",
              "      <td>1.0</td>\n",
              "      <td>0.0</td>\n",
              "    </tr>\n",
              "    <tr>\n",
              "      <th>1</th>\n",
              "      <td>20.0</td>\n",
              "      <td>80.0</td>\n",
              "      <td>9600.0</td>\n",
              "      <td>6.0</td>\n",
              "      <td>8.0</td>\n",
              "      <td>1976.0</td>\n",
              "      <td>1976.0</td>\n",
              "      <td>0.0</td>\n",
              "      <td>978.0</td>\n",
              "      <td>0.0</td>\n",
              "      <td>284.0</td>\n",
              "      <td>1262.0</td>\n",
              "      <td>1262.0</td>\n",
              "      <td>0.0</td>\n",
              "      <td>0.0</td>\n",
              "      <td>1262.0</td>\n",
              "      <td>0.0</td>\n",
              "      <td>1.0</td>\n",
              "      <td>2.0</td>\n",
              "      <td>0.0</td>\n",
              "      <td>3.0</td>\n",
              "      <td>1.0</td>\n",
              "      <td>6.0</td>\n",
              "      <td>1.0</td>\n",
              "      <td>1976.0</td>\n",
              "      <td>2.0</td>\n",
              "      <td>460.0</td>\n",
              "      <td>298.0</td>\n",
              "      <td>0.0</td>\n",
              "      <td>0.0</td>\n",
              "      <td>0.0</td>\n",
              "      <td>0.0</td>\n",
              "      <td>0.0</td>\n",
              "      <td>0.0</td>\n",
              "      <td>5.0</td>\n",
              "      <td>2007.0</td>\n",
              "      <td>1.0</td>\n",
              "      <td>0.0</td>\n",
              "    </tr>\n",
              "    <tr>\n",
              "      <th>2</th>\n",
              "      <td>60.0</td>\n",
              "      <td>68.0</td>\n",
              "      <td>11250.0</td>\n",
              "      <td>7.0</td>\n",
              "      <td>5.0</td>\n",
              "      <td>2001.0</td>\n",
              "      <td>2002.0</td>\n",
              "      <td>162.0</td>\n",
              "      <td>486.0</td>\n",
              "      <td>0.0</td>\n",
              "      <td>434.0</td>\n",
              "      <td>920.0</td>\n",
              "      <td>920.0</td>\n",
              "      <td>866.0</td>\n",
              "      <td>0.0</td>\n",
              "      <td>1786.0</td>\n",
              "      <td>1.0</td>\n",
              "      <td>0.0</td>\n",
              "      <td>2.0</td>\n",
              "      <td>1.0</td>\n",
              "      <td>3.0</td>\n",
              "      <td>1.0</td>\n",
              "      <td>6.0</td>\n",
              "      <td>1.0</td>\n",
              "      <td>2001.0</td>\n",
              "      <td>2.0</td>\n",
              "      <td>608.0</td>\n",
              "      <td>0.0</td>\n",
              "      <td>42.0</td>\n",
              "      <td>0.0</td>\n",
              "      <td>0.0</td>\n",
              "      <td>0.0</td>\n",
              "      <td>0.0</td>\n",
              "      <td>0.0</td>\n",
              "      <td>9.0</td>\n",
              "      <td>2008.0</td>\n",
              "      <td>1.0</td>\n",
              "      <td>0.0</td>\n",
              "    </tr>\n",
              "    <tr>\n",
              "      <th>3</th>\n",
              "      <td>70.0</td>\n",
              "      <td>60.0</td>\n",
              "      <td>9550.0</td>\n",
              "      <td>7.0</td>\n",
              "      <td>5.0</td>\n",
              "      <td>1915.0</td>\n",
              "      <td>1970.0</td>\n",
              "      <td>0.0</td>\n",
              "      <td>216.0</td>\n",
              "      <td>0.0</td>\n",
              "      <td>540.0</td>\n",
              "      <td>756.0</td>\n",
              "      <td>961.0</td>\n",
              "      <td>756.0</td>\n",
              "      <td>0.0</td>\n",
              "      <td>1717.0</td>\n",
              "      <td>1.0</td>\n",
              "      <td>0.0</td>\n",
              "      <td>1.0</td>\n",
              "      <td>0.0</td>\n",
              "      <td>3.0</td>\n",
              "      <td>1.0</td>\n",
              "      <td>7.0</td>\n",
              "      <td>1.0</td>\n",
              "      <td>1998.0</td>\n",
              "      <td>3.0</td>\n",
              "      <td>642.0</td>\n",
              "      <td>0.0</td>\n",
              "      <td>35.0</td>\n",
              "      <td>272.0</td>\n",
              "      <td>0.0</td>\n",
              "      <td>0.0</td>\n",
              "      <td>0.0</td>\n",
              "      <td>0.0</td>\n",
              "      <td>2.0</td>\n",
              "      <td>2006.0</td>\n",
              "      <td>1.0</td>\n",
              "      <td>0.0</td>\n",
              "    </tr>\n",
              "    <tr>\n",
              "      <th>4</th>\n",
              "      <td>60.0</td>\n",
              "      <td>84.0</td>\n",
              "      <td>14260.0</td>\n",
              "      <td>8.0</td>\n",
              "      <td>5.0</td>\n",
              "      <td>2000.0</td>\n",
              "      <td>2000.0</td>\n",
              "      <td>350.0</td>\n",
              "      <td>655.0</td>\n",
              "      <td>0.0</td>\n",
              "      <td>490.0</td>\n",
              "      <td>1145.0</td>\n",
              "      <td>1145.0</td>\n",
              "      <td>1053.0</td>\n",
              "      <td>0.0</td>\n",
              "      <td>2198.0</td>\n",
              "      <td>1.0</td>\n",
              "      <td>0.0</td>\n",
              "      <td>2.0</td>\n",
              "      <td>1.0</td>\n",
              "      <td>4.0</td>\n",
              "      <td>1.0</td>\n",
              "      <td>9.0</td>\n",
              "      <td>1.0</td>\n",
              "      <td>2000.0</td>\n",
              "      <td>3.0</td>\n",
              "      <td>836.0</td>\n",
              "      <td>192.0</td>\n",
              "      <td>84.0</td>\n",
              "      <td>0.0</td>\n",
              "      <td>0.0</td>\n",
              "      <td>0.0</td>\n",
              "      <td>0.0</td>\n",
              "      <td>0.0</td>\n",
              "      <td>12.0</td>\n",
              "      <td>2008.0</td>\n",
              "      <td>1.0</td>\n",
              "      <td>0.0</td>\n",
              "    </tr>\n",
              "  </tbody>\n",
              "</table>\n",
              "</div>"
            ],
            "text/plain": [
              "   MSSubClass  LotFrontage  LotArea  ...  YrSold  enc_street  enc_condition\n",
              "0        60.0         65.0   8450.0  ...  2008.0         1.0            0.0\n",
              "1        20.0         80.0   9600.0  ...  2007.0         1.0            0.0\n",
              "2        60.0         68.0  11250.0  ...  2008.0         1.0            0.0\n",
              "3        70.0         60.0   9550.0  ...  2006.0         1.0            0.0\n",
              "4        60.0         84.0  14260.0  ...  2008.0         1.0            0.0\n",
              "\n",
              "[5 rows x 38 columns]"
            ]
          },
          "metadata": {
            "tags": []
          },
          "execution_count": 36
        }
      ]
    },
    {
      "cell_type": "markdown",
      "metadata": {
        "id": "NyZDBHFNrbvd"
      },
      "source": [
        "####Vamos agora particionar nossos dados em train e test."
      ]
    },
    {
      "cell_type": "code",
      "metadata": {
        "id": "p1WzqfJSsjTn"
      },
      "source": [
        "from sklearn.model_selection import train_test_split\n",
        "X_train, X_test, y_train, y_test = train_test_split(X, y, random_state=55, test_size=.33)"
      ],
      "execution_count": null,
      "outputs": []
    },
    {
      "cell_type": "markdown",
      "metadata": {
        "id": "8CUFcJ57tpPi"
      },
      "source": [
        "Criaremos então nosso modelo. Para esta análise usarei a [Regressão Linear](https://https://en.wikipedia.org/wiki/Linear_regression) como técnica de modelagem deste problema."
      ]
    },
    {
      "cell_type": "code",
      "metadata": {
        "id": "9HXBTjDhtAYk"
      },
      "source": [
        "from sklearn import linear_model\n",
        "\n",
        "lr = linear_model.LinearRegression()"
      ],
      "execution_count": null,
      "outputs": []
    },
    {
      "cell_type": "markdown",
      "metadata": {
        "id": "pCW1bK3wt908"
      },
      "source": [
        "Após criarmos o modelo, é preciso treiná-lo."
      ]
    },
    {
      "cell_type": "code",
      "metadata": {
        "id": "WQoYJEdkt-OC"
      },
      "source": [
        "model = lr.fit(X_train, y_train)"
      ],
      "execution_count": null,
      "outputs": []
    },
    {
      "cell_type": "markdown",
      "metadata": {
        "id": "TdLeZMsGv7RX"
      },
      "source": [
        "###Medindo a performance do nosso modelo"
      ]
    },
    {
      "cell_type": "markdown",
      "metadata": {
        "id": "6GpF44RMwA4W"
      },
      "source": [
        "Para validarmos a performance do nosso modelo, seguiremos o padrão do Kaggle e usaremos o método \"[Root-mean-squared-error](https://https://en.wikipedia.org/wiki/Root-mean-square_deviation)\". Também olharei para o valor de [R^2](https://en.wikipedia.org/wiki/Coefficient_of_determination). Este valor mede o quão próximo os valores estão da linha de aprendizado da regressão."
      ]
    },
    {
      "cell_type": "code",
      "metadata": {
        "colab": {
          "base_uri": "https://localhost:8080/"
        },
        "id": "0hGOfvA3v6oX",
        "outputId": "56d25724-ac98-46ed-a189-79293b106863"
      },
      "source": [
        "print(\"O valor de R² é de:\", model.score(X_test, y_test))"
      ],
      "execution_count": null,
      "outputs": [
        {
          "output_type": "stream",
          "text": [
            "O valor de R² é de: 0.8603617977558645\n"
          ],
          "name": "stdout"
        }
      ]
    },
    {
      "cell_type": "code",
      "metadata": {
        "id": "xJjKqOlluMZw"
      },
      "source": [
        "predictions = model.predict(X_test)"
      ],
      "execution_count": null,
      "outputs": []
    },
    {
      "cell_type": "code",
      "metadata": {
        "colab": {
          "base_uri": "https://localhost:8080/"
        },
        "id": "cV2hCOv28nr4",
        "outputId": "82963e43-8cf9-412d-e7bf-38f169980fa8"
      },
      "source": [
        "from sklearn.metrics import mean_squared_error\n",
        "\n",
        "print(\"O valor do RSME é:\", mean_squared_error(y_test, predictions))"
      ],
      "execution_count": null,
      "outputs": [
        {
          "output_type": "stream",
          "text": [
            "O valor do RSME é: 0.022212262860333124\n"
          ],
          "name": "stdout"
        }
      ]
    },
    {
      "cell_type": "markdown",
      "metadata": {
        "id": "Er6lXJDx9RdK"
      },
      "source": [
        "####Para facilitar a vizualização, irei plotar o gráfico da regressão linear."
      ]
    },
    {
      "cell_type": "code",
      "metadata": {
        "colab": {
          "base_uri": "https://localhost:8080/",
          "height": 295
        },
        "id": "QsF6u3F69Qrr",
        "outputId": "6409f34a-c3ba-41a6-c263-29b062dd34ef"
      },
      "source": [
        "actual_values = y_test\n",
        "plt.scatter(predictions, actual_values, alpha=.7, color='b')\n",
        "plt.xlabel('Preço Previsto')\n",
        "plt.ylabel('Preço Real')\n",
        "plt.title('Modelo de Regressão Linear')\n",
        "plt.show()"
      ],
      "execution_count": null,
      "outputs": [
        {
          "output_type": "display_data",
          "data": {
            "image/png": "[encoded data removed]",
            "text/plain": [
              "<Figure size 432x288 with 1 Axes>"
            ]
          },
          "metadata": {
            "tags": []
          }
        }
      ]
    }
  ]
}